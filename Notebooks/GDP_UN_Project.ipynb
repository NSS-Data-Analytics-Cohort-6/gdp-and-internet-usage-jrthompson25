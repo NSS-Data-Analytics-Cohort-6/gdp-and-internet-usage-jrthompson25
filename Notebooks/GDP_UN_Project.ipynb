{
 "cells": [
  {
   "cell_type": "code",
   "execution_count": 1,
   "id": "b449bd2d",
   "metadata": {},
   "outputs": [
    {
     "data": {
      "text/html": [
       "<div>\n",
       "<style scoped>\n",
       "    .dataframe tbody tr th:only-of-type {\n",
       "        vertical-align: middle;\n",
       "    }\n",
       "\n",
       "    .dataframe tbody tr th {\n",
       "        vertical-align: top;\n",
       "    }\n",
       "\n",
       "    .dataframe thead th {\n",
       "        text-align: right;\n",
       "    }\n",
       "</style>\n",
       "<table border=\"1\" class=\"dataframe\">\n",
       "  <thead>\n",
       "    <tr style=\"text-align: right;\">\n",
       "      <th></th>\n",
       "      <th>Country or Area</th>\n",
       "      <th>Year</th>\n",
       "      <th>Value</th>\n",
       "      <th>Value Footnotes</th>\n",
       "    </tr>\n",
       "  </thead>\n",
       "  <tbody>\n",
       "    <tr>\n",
       "      <th>0</th>\n",
       "      <td>Afghanistan</td>\n",
       "      <td>2019</td>\n",
       "      <td>2065.036398</td>\n",
       "      <td>NaN</td>\n",
       "    </tr>\n",
       "    <tr>\n",
       "      <th>1</th>\n",
       "      <td>Afghanistan</td>\n",
       "      <td>2018</td>\n",
       "      <td>2033.779002</td>\n",
       "      <td>NaN</td>\n",
       "    </tr>\n",
       "    <tr>\n",
       "      <th>2</th>\n",
       "      <td>Afghanistan</td>\n",
       "      <td>2017</td>\n",
       "      <td>2058.383832</td>\n",
       "      <td>NaN</td>\n",
       "    </tr>\n",
       "    <tr>\n",
       "      <th>3</th>\n",
       "      <td>Afghanistan</td>\n",
       "      <td>2016</td>\n",
       "      <td>2057.062164</td>\n",
       "      <td>NaN</td>\n",
       "    </tr>\n",
       "    <tr>\n",
       "      <th>4</th>\n",
       "      <td>Afghanistan</td>\n",
       "      <td>2015</td>\n",
       "      <td>2068.265904</td>\n",
       "      <td>NaN</td>\n",
       "    </tr>\n",
       "  </tbody>\n",
       "</table>\n",
       "</div>"
      ],
      "text/plain": [
       "  Country or Area  Year        Value  Value Footnotes\n",
       "0     Afghanistan  2019  2065.036398              NaN\n",
       "1     Afghanistan  2018  2033.779002              NaN\n",
       "2     Afghanistan  2017  2058.383832              NaN\n",
       "3     Afghanistan  2016  2057.062164              NaN\n",
       "4     Afghanistan  2015  2068.265904              NaN"
      ]
     },
     "execution_count": 1,
     "metadata": {},
     "output_type": "execute_result"
    }
   ],
   "source": [
    "#3\n",
    "import pandas as pd\n",
    "import numpy as np\n",
    "import matplotlib.pyplot as plt\n",
    "import seaborn as sns\n",
    "\n",
    "#4\n",
    "%matplotlib inline\n",
    "#5\n",
    "gdp_df=pd.read_csv('../data/gdp_percapita.csv', nrows=6869)\n",
    "gdp_df.head()"
   ]
  },
  {
   "cell_type": "code",
   "execution_count": 2,
   "id": "392683a7",
   "metadata": {},
   "outputs": [
    {
     "data": {
      "text/html": [
       "<div>\n",
       "<style scoped>\n",
       "    .dataframe tbody tr th:only-of-type {\n",
       "        vertical-align: middle;\n",
       "    }\n",
       "\n",
       "    .dataframe tbody tr th {\n",
       "        vertical-align: top;\n",
       "    }\n",
       "\n",
       "    .dataframe thead th {\n",
       "        text-align: right;\n",
       "    }\n",
       "</style>\n",
       "<table border=\"1\" class=\"dataframe\">\n",
       "  <thead>\n",
       "    <tr style=\"text-align: right;\">\n",
       "      <th></th>\n",
       "      <th>Country or Area</th>\n",
       "      <th>Year</th>\n",
       "      <th>Value</th>\n",
       "      <th>Value Footnotes</th>\n",
       "    </tr>\n",
       "  </thead>\n",
       "  <tbody>\n",
       "    <tr>\n",
       "      <th>0</th>\n",
       "      <td>Afghanistan</td>\n",
       "      <td>2014</td>\n",
       "      <td>6.390000</td>\n",
       "      <td>NaN</td>\n",
       "    </tr>\n",
       "    <tr>\n",
       "      <th>1</th>\n",
       "      <td>Afghanistan</td>\n",
       "      <td>2013</td>\n",
       "      <td>5.900000</td>\n",
       "      <td>NaN</td>\n",
       "    </tr>\n",
       "    <tr>\n",
       "      <th>2</th>\n",
       "      <td>Afghanistan</td>\n",
       "      <td>2012</td>\n",
       "      <td>5.454545</td>\n",
       "      <td>NaN</td>\n",
       "    </tr>\n",
       "    <tr>\n",
       "      <th>3</th>\n",
       "      <td>Afghanistan</td>\n",
       "      <td>2011</td>\n",
       "      <td>5.000000</td>\n",
       "      <td>NaN</td>\n",
       "    </tr>\n",
       "    <tr>\n",
       "      <th>4</th>\n",
       "      <td>Afghanistan</td>\n",
       "      <td>2010</td>\n",
       "      <td>4.000000</td>\n",
       "      <td>NaN</td>\n",
       "    </tr>\n",
       "  </tbody>\n",
       "</table>\n",
       "</div>"
      ],
      "text/plain": [
       "  Country or Area  Year     Value  Value Footnotes\n",
       "0     Afghanistan  2014  6.390000              NaN\n",
       "1     Afghanistan  2013  5.900000              NaN\n",
       "2     Afghanistan  2012  5.454545              NaN\n",
       "3     Afghanistan  2011  5.000000              NaN\n",
       "4     Afghanistan  2010  4.000000              NaN"
      ]
     },
     "execution_count": 2,
     "metadata": {},
     "output_type": "execute_result"
    }
   ],
   "source": [
    "#6\n",
    "\n",
    "internet_df=pd.read_csv('../data/internet_use.csv', nrows=4496)\n",
    "internet_df.head()"
   ]
  },
  {
   "cell_type": "code",
   "execution_count": 3,
   "id": "1d2ef497",
   "metadata": {},
   "outputs": [
    {
     "name": "stdout",
     "output_type": "stream",
     "text": [
      "(6869, 4)\n"
     ]
    }
   ],
   "source": [
    "#7\n",
    "\n",
    "print(gdp_df.shape)"
   ]
  },
  {
   "cell_type": "markdown",
   "id": "50c45b97",
   "metadata": {},
   "source": [
    "Answer: The shape of the internet use dataset is 6,870 rows and 4 columns"
   ]
  },
  {
   "cell_type": "code",
   "execution_count": 4,
   "id": "e62756b5",
   "metadata": {},
   "outputs": [
    {
     "name": "stdout",
     "output_type": "stream",
     "text": [
      "(4496, 4)\n"
     ]
    }
   ],
   "source": [
    "#7 Continued\n",
    "\n",
    "print(internet_df.shape)"
   ]
  },
  {
   "cell_type": "markdown",
   "id": "6a0a8b1f",
   "metadata": {},
   "source": [
    "Answer: The shape of the internet use dataset is 4,496 rows and 4 columns"
   ]
  },
  {
   "cell_type": "code",
   "execution_count": 5,
   "id": "e65c6215",
   "metadata": {},
   "outputs": [
    {
     "name": "stdout",
     "output_type": "stream",
     "text": [
      "<class 'pandas.core.frame.DataFrame'>\n",
      "RangeIndex: 6869 entries, 0 to 6868\n",
      "Data columns (total 4 columns):\n",
      " #   Column           Non-Null Count  Dtype  \n",
      "---  ------           --------------  -----  \n",
      " 0   Country or Area  6869 non-null   object \n",
      " 1   Year             6869 non-null   object \n",
      " 2   Value            6868 non-null   float64\n",
      " 3   Value Footnotes  1 non-null      float64\n",
      "dtypes: float64(2), object(2)\n",
      "memory usage: 214.8+ KB\n",
      "None\n"
     ]
    }
   ],
   "source": [
    "#8\n",
    "\n",
    "print(gdp_df.info())"
   ]
  },
  {
   "cell_type": "code",
   "execution_count": 6,
   "id": "db3bfa96",
   "metadata": {},
   "outputs": [
    {
     "name": "stdout",
     "output_type": "stream",
     "text": [
      "<class 'pandas.core.frame.DataFrame'>\n",
      "RangeIndex: 4496 entries, 0 to 4495\n",
      "Data columns (total 4 columns):\n",
      " #   Column           Non-Null Count  Dtype  \n",
      "---  ------           --------------  -----  \n",
      " 0   Country or Area  4496 non-null   object \n",
      " 1   Year             4496 non-null   object \n",
      " 2   Value            4495 non-null   float64\n",
      " 3   Value Footnotes  948 non-null    float64\n",
      "dtypes: float64(2), object(2)\n",
      "memory usage: 140.6+ KB\n",
      "None\n"
     ]
    }
   ],
   "source": [
    "#8 Continued\n",
    "\n",
    "print(internet_df.info())"
   ]
  },
  {
   "cell_type": "code",
   "execution_count": 7,
   "id": "2135b249",
   "metadata": {},
   "outputs": [
    {
     "name": "stdout",
     "output_type": "stream",
     "text": [
      "     Country or Area      Year        Value  Value Footnotes\n",
      "6859        Zimbabwe      1998  3653.920016              NaN\n",
      "6860        Zimbabwe      1997  3580.048793              NaN\n",
      "6861        Zimbabwe      1996  3520.430146              NaN\n",
      "6862        Zimbabwe      1995  3226.413930              NaN\n",
      "6863        Zimbabwe      1994  3263.934978              NaN\n",
      "6864        Zimbabwe      1993  3033.504852              NaN\n",
      "6865        Zimbabwe      1992  3054.889178              NaN\n",
      "6866        Zimbabwe      1991  3426.598094              NaN\n",
      "6867        Zimbabwe      1990  3324.348171              NaN\n",
      "6868   footnoteSeqID  Footnote          NaN              NaN\n"
     ]
    }
   ],
   "source": [
    "#9\n",
    "print(gdp_df.tail(10))  "
   ]
  },
  {
   "cell_type": "code",
   "execution_count": 8,
   "id": "55d585f9",
   "metadata": {},
   "outputs": [
    {
     "name": "stdout",
     "output_type": "stream",
     "text": [
      "     Country or Area      Year     Value  Value Footnotes\n",
      "4486        Zimbabwe      2001  0.799846              NaN\n",
      "4487        Zimbabwe      2000  0.401434              NaN\n",
      "4488        Zimbabwe      1999  0.161676              NaN\n",
      "4489        Zimbabwe      1998  0.081648              NaN\n",
      "4490        Zimbabwe      1997  0.033080              NaN\n",
      "4491        Zimbabwe      1996  0.016790              NaN\n",
      "4492        Zimbabwe      1995  0.007684              NaN\n",
      "4493        Zimbabwe      1994  0.001739              NaN\n",
      "4494        Zimbabwe      1990  0.000000              NaN\n",
      "4495   footnoteSeqID  Footnote       NaN              NaN\n"
     ]
    }
   ],
   "source": [
    "#9 Continued\n",
    "\n",
    "print(internet_df.tail(10)) "
   ]
  },
  {
   "cell_type": "code",
   "execution_count": 9,
   "id": "e3018655",
   "metadata": {},
   "outputs": [
    {
     "name": "stdout",
     "output_type": "stream",
     "text": [
      "  Country or Area  Year        Value\n",
      "0     Afghanistan  2019  2065.036398\n",
      "1     Afghanistan  2018  2033.779002\n",
      "2     Afghanistan  2017  2058.383832\n",
      "3     Afghanistan  2016  2057.062164\n",
      "4     Afghanistan  2015  2068.265904\n"
     ]
    }
   ],
   "source": [
    "#10.\n",
    "\n",
    "del gdp_df['Value Footnotes']\n",
    "print(gdp_df.head())"
   ]
  },
  {
   "cell_type": "code",
   "execution_count": 10,
   "id": "fa9e633b",
   "metadata": {},
   "outputs": [
    {
     "name": "stdout",
     "output_type": "stream",
     "text": [
      "  Country or Area  Year     Value\n",
      "0     Afghanistan  2014  6.390000\n",
      "1     Afghanistan  2013  5.900000\n",
      "2     Afghanistan  2012  5.454545\n",
      "3     Afghanistan  2011  5.000000\n",
      "4     Afghanistan  2010  4.000000\n"
     ]
    }
   ],
   "source": [
    "#10 Continued\n",
    "\n",
    "del internet_df['Value Footnotes']\n",
    "print(internet_df.head())"
   ]
  },
  {
   "cell_type": "code",
   "execution_count": 11,
   "id": "291c0968",
   "metadata": {},
   "outputs": [
    {
     "data": {
      "text/html": [
       "<div>\n",
       "<style scoped>\n",
       "    .dataframe tbody tr th:only-of-type {\n",
       "        vertical-align: middle;\n",
       "    }\n",
       "\n",
       "    .dataframe tbody tr th {\n",
       "        vertical-align: top;\n",
       "    }\n",
       "\n",
       "    .dataframe thead th {\n",
       "        text-align: right;\n",
       "    }\n",
       "</style>\n",
       "<table border=\"1\" class=\"dataframe\">\n",
       "  <thead>\n",
       "    <tr style=\"text-align: right;\">\n",
       "      <th></th>\n",
       "      <th>Country</th>\n",
       "      <th>Year</th>\n",
       "      <th>GDP_Per_Capita</th>\n",
       "    </tr>\n",
       "  </thead>\n",
       "  <tbody>\n",
       "    <tr>\n",
       "      <th>0</th>\n",
       "      <td>Afghanistan</td>\n",
       "      <td>2019</td>\n",
       "      <td>2065.036398</td>\n",
       "    </tr>\n",
       "    <tr>\n",
       "      <th>1</th>\n",
       "      <td>Afghanistan</td>\n",
       "      <td>2018</td>\n",
       "      <td>2033.779002</td>\n",
       "    </tr>\n",
       "    <tr>\n",
       "      <th>2</th>\n",
       "      <td>Afghanistan</td>\n",
       "      <td>2017</td>\n",
       "      <td>2058.383832</td>\n",
       "    </tr>\n",
       "    <tr>\n",
       "      <th>3</th>\n",
       "      <td>Afghanistan</td>\n",
       "      <td>2016</td>\n",
       "      <td>2057.062164</td>\n",
       "    </tr>\n",
       "    <tr>\n",
       "      <th>4</th>\n",
       "      <td>Afghanistan</td>\n",
       "      <td>2015</td>\n",
       "      <td>2068.265904</td>\n",
       "    </tr>\n",
       "  </tbody>\n",
       "</table>\n",
       "</div>"
      ],
      "text/plain": [
       "       Country  Year  GDP_Per_Capita\n",
       "0  Afghanistan  2019     2065.036398\n",
       "1  Afghanistan  2018     2033.779002\n",
       "2  Afghanistan  2017     2058.383832\n",
       "3  Afghanistan  2016     2057.062164\n",
       "4  Afghanistan  2015     2068.265904"
      ]
     },
     "execution_count": 11,
     "metadata": {},
     "output_type": "execute_result"
    }
   ],
   "source": [
    "#11\n",
    "gdp_df.columns = [\"Country\", \"Year\", \"GDP_Per_Capita\"]\n",
    "gdp_df.head()"
   ]
  },
  {
   "cell_type": "code",
   "execution_count": 12,
   "id": "5d6f1e2d",
   "metadata": {},
   "outputs": [
    {
     "data": {
      "text/html": [
       "<div>\n",
       "<style scoped>\n",
       "    .dataframe tbody tr th:only-of-type {\n",
       "        vertical-align: middle;\n",
       "    }\n",
       "\n",
       "    .dataframe tbody tr th {\n",
       "        vertical-align: top;\n",
       "    }\n",
       "\n",
       "    .dataframe thead th {\n",
       "        text-align: right;\n",
       "    }\n",
       "</style>\n",
       "<table border=\"1\" class=\"dataframe\">\n",
       "  <thead>\n",
       "    <tr style=\"text-align: right;\">\n",
       "      <th></th>\n",
       "      <th>Country</th>\n",
       "      <th>Year</th>\n",
       "      <th>Internet_Users_Pct</th>\n",
       "    </tr>\n",
       "  </thead>\n",
       "  <tbody>\n",
       "    <tr>\n",
       "      <th>0</th>\n",
       "      <td>Afghanistan</td>\n",
       "      <td>2014</td>\n",
       "      <td>6.390000</td>\n",
       "    </tr>\n",
       "    <tr>\n",
       "      <th>1</th>\n",
       "      <td>Afghanistan</td>\n",
       "      <td>2013</td>\n",
       "      <td>5.900000</td>\n",
       "    </tr>\n",
       "    <tr>\n",
       "      <th>2</th>\n",
       "      <td>Afghanistan</td>\n",
       "      <td>2012</td>\n",
       "      <td>5.454545</td>\n",
       "    </tr>\n",
       "    <tr>\n",
       "      <th>3</th>\n",
       "      <td>Afghanistan</td>\n",
       "      <td>2011</td>\n",
       "      <td>5.000000</td>\n",
       "    </tr>\n",
       "    <tr>\n",
       "      <th>4</th>\n",
       "      <td>Afghanistan</td>\n",
       "      <td>2010</td>\n",
       "      <td>4.000000</td>\n",
       "    </tr>\n",
       "  </tbody>\n",
       "</table>\n",
       "</div>"
      ],
      "text/plain": [
       "       Country  Year  Internet_Users_Pct\n",
       "0  Afghanistan  2014            6.390000\n",
       "1  Afghanistan  2013            5.900000\n",
       "2  Afghanistan  2012            5.454545\n",
       "3  Afghanistan  2011            5.000000\n",
       "4  Afghanistan  2010            4.000000"
      ]
     },
     "execution_count": 12,
     "metadata": {},
     "output_type": "execute_result"
    }
   ],
   "source": [
    "#12\n",
    "internet_df.columns = [\"Country\", \"Year\", \"Internet_Users_Pct\"]\n",
    "internet_df.head()"
   ]
  },
  {
   "cell_type": "code",
   "execution_count": 13,
   "id": "af9abe19",
   "metadata": {},
   "outputs": [
    {
     "data": {
      "text/html": [
       "<div>\n",
       "<style scoped>\n",
       "    .dataframe tbody tr th:only-of-type {\n",
       "        vertical-align: middle;\n",
       "    }\n",
       "\n",
       "    .dataframe tbody tr th {\n",
       "        vertical-align: top;\n",
       "    }\n",
       "\n",
       "    .dataframe thead th {\n",
       "        text-align: right;\n",
       "    }\n",
       "</style>\n",
       "<table border=\"1\" class=\"dataframe\">\n",
       "  <thead>\n",
       "    <tr style=\"text-align: right;\">\n",
       "      <th></th>\n",
       "      <th>Country</th>\n",
       "      <th>Year</th>\n",
       "      <th>GDP_Per_Capita</th>\n",
       "      <th>Internet_Users_Pct</th>\n",
       "    </tr>\n",
       "  </thead>\n",
       "  <tbody>\n",
       "    <tr>\n",
       "      <th>0</th>\n",
       "      <td>Afghanistan</td>\n",
       "      <td>2019</td>\n",
       "      <td>2065.036398</td>\n",
       "      <td>NaN</td>\n",
       "    </tr>\n",
       "    <tr>\n",
       "      <th>1</th>\n",
       "      <td>Afghanistan</td>\n",
       "      <td>2018</td>\n",
       "      <td>2033.779002</td>\n",
       "      <td>NaN</td>\n",
       "    </tr>\n",
       "    <tr>\n",
       "      <th>2</th>\n",
       "      <td>Afghanistan</td>\n",
       "      <td>2017</td>\n",
       "      <td>2058.383832</td>\n",
       "      <td>NaN</td>\n",
       "    </tr>\n",
       "    <tr>\n",
       "      <th>3</th>\n",
       "      <td>Afghanistan</td>\n",
       "      <td>2016</td>\n",
       "      <td>2057.062164</td>\n",
       "      <td>NaN</td>\n",
       "    </tr>\n",
       "    <tr>\n",
       "      <th>4</th>\n",
       "      <td>Afghanistan</td>\n",
       "      <td>2015</td>\n",
       "      <td>2068.265904</td>\n",
       "      <td>NaN</td>\n",
       "    </tr>\n",
       "  </tbody>\n",
       "</table>\n",
       "</div>"
      ],
      "text/plain": [
       "       Country  Year  GDP_Per_Capita  Internet_Users_Pct\n",
       "0  Afghanistan  2019     2065.036398                 NaN\n",
       "1  Afghanistan  2018     2033.779002                 NaN\n",
       "2  Afghanistan  2017     2058.383832                 NaN\n",
       "3  Afghanistan  2016     2057.062164                 NaN\n",
       "4  Afghanistan  2015     2068.265904                 NaN"
      ]
     },
     "execution_count": 13,
     "metadata": {},
     "output_type": "execute_result"
    }
   ],
   "source": [
    "#13 & 14\n",
    "gdp_and_internet_use = pd.merge(gdp_df, internet_df, how='outer', on=[\"Country\", \"Year\"])\n",
    "gdp_and_internet_use.head()"
   ]
  },
  {
   "cell_type": "code",
   "execution_count": 14,
   "id": "73d65f2b",
   "metadata": {},
   "outputs": [
    {
     "name": "stdout",
     "output_type": "stream",
     "text": [
      "<class 'pandas.core.frame.DataFrame'>\n",
      "RangeIndex: 6869 entries, 0 to 6868\n",
      "Data columns (total 3 columns):\n",
      " #   Column          Non-Null Count  Dtype  \n",
      "---  ------          --------------  -----  \n",
      " 0   Country         6869 non-null   object \n",
      " 1   Year            6869 non-null   object \n",
      " 2   GDP_Per_Capita  6868 non-null   float64\n",
      "dtypes: float64(1), object(2)\n",
      "memory usage: 161.1+ KB\n",
      "None\n",
      "<class 'pandas.core.frame.DataFrame'>\n",
      "RangeIndex: 4496 entries, 0 to 4495\n",
      "Data columns (total 3 columns):\n",
      " #   Column              Non-Null Count  Dtype  \n",
      "---  ------              --------------  -----  \n",
      " 0   Country             4496 non-null   object \n",
      " 1   Year                4496 non-null   object \n",
      " 2   Internet_Users_Pct  4495 non-null   float64\n",
      "dtypes: float64(1), object(2)\n",
      "memory usage: 105.5+ KB\n",
      "None\n"
     ]
    }
   ],
   "source": [
    "print(gdp_df.info())\n",
    "print(internet_df.info())"
   ]
  },
  {
   "cell_type": "code",
   "execution_count": 15,
   "id": "1a34475d",
   "metadata": {},
   "outputs": [
    {
     "name": "stdout",
     "output_type": "stream",
     "text": [
      "          Country  Year  GDP_Per_Capita  Internet_Users_Pct\n",
      "0     Afghanistan  2019     2065.036398                 NaN\n",
      "1     Afghanistan  2018     2033.779002                 NaN\n",
      "2     Afghanistan  2017     2058.383832                 NaN\n",
      "3     Afghanistan  2016     2057.062164                 NaN\n",
      "4     Afghanistan  2015     2068.265904                 NaN\n",
      "...           ...   ...             ...                 ...\n",
      "7900        Yemen  2000             NaN            0.082500\n",
      "7901        Yemen  1999             NaN            0.056629\n",
      "7902        Yemen  1998             NaN            0.023323\n",
      "7903        Yemen  1997             NaN            0.015025\n",
      "7904        Yemen  1996             NaN            0.000621\n",
      "\n",
      "[7905 rows x 4 columns]\n"
     ]
    }
   ],
   "source": [
    "#15\n",
    "gdp_and_internet_use = gdp_and_internet_use.iloc[:-1]\n",
    "print(gdp_and_internet_use)\n"
   ]
  },
  {
   "cell_type": "code",
   "execution_count": 16,
   "id": "a4c2a436",
   "metadata": {},
   "outputs": [
    {
     "name": "stdout",
     "output_type": "stream",
     "text": [
      "                    Country  Year  GDP_Per_Capita  Internet_Users_Pct\n",
      "5               Afghanistan  2014     2102.385234            6.390000\n",
      "10              Afghanistan  2009     1758.904043            3.550000\n",
      "15              Afghanistan  2004     1200.278256            0.105809\n",
      "23                  Albania  2014    11623.866679           60.100000\n",
      "28                  Albania  2009    10346.864199           41.200000\n",
      "...                     ...   ...             ...                 ...\n",
      "7869  Virgin Islands (U.S.)  2009             NaN           27.396510\n",
      "7874  Virgin Islands (U.S.)  2004             NaN           27.377009\n",
      "7886                  Yemen  2014             NaN           22.550000\n",
      "7891                  Yemen  2009             NaN            9.960000\n",
      "7896                  Yemen  2004             NaN            0.881223\n",
      "\n",
      "[830 rows x 4 columns]\n"
     ]
    }
   ],
   "source": [
    "#16 \n",
    "years = gdp_and_internet_use[(gdp_and_internet_use['Year']=='2004') | (gdp_and_internet_use['Year']=='2009') | (gdp_and_internet_use['Year']=='2014')]\n",
    "print(years)"
   ]
  },
  {
   "cell_type": "code",
   "execution_count": 17,
   "id": "7dca67a6",
   "metadata": {},
   "outputs": [
    {
     "name": "stdout",
     "output_type": "stream",
     "text": [
      "                    Country  Year  GDP_Per_Capita  Internet_Users_Pct\n",
      "15              Afghanistan  2004     1200.278256            0.105809\n",
      "33                  Albania  2004     7604.838002            2.420388\n",
      "63                  Algeria  2004    10058.435939            4.634475\n",
      "93                   Angola  2004     5593.241537            0.464815\n",
      "123     Antigua and Barbuda  2004    18745.681534           24.266544\n",
      "...                     ...   ...             ...                 ...\n",
      "7772     T.F.Y.R. Macedonia  2004             NaN           24.440000\n",
      "7830              Venezuela  2004             NaN            8.404470\n",
      "7854               Viet Nam  2004             NaN            7.642409\n",
      "7874  Virgin Islands (U.S.)  2004             NaN           27.377009\n",
      "7896                  Yemen  2004             NaN            0.881223\n",
      "\n",
      "[276 rows x 4 columns]\n",
      "                    Country  Year  GDP_Per_Capita  Internet_Users_Pct\n",
      "10              Afghanistan  2009     1758.904043             3.55000\n",
      "28                  Albania  2009    10346.864199            41.20000\n",
      "58                  Algeria  2009    10782.361398            11.23000\n",
      "88                   Angola  2009     7643.493749             6.00000\n",
      "118     Antigua and Barbuda  2009    20046.839017            42.00000\n",
      "...                     ...   ...             ...                 ...\n",
      "7767     T.F.Y.R. Macedonia  2009             NaN            51.77000\n",
      "7825              Venezuela  2009             NaN            32.70000\n",
      "7849               Viet Nam  2009             NaN            26.55000\n",
      "7869  Virgin Islands (U.S.)  2009             NaN            27.39651\n",
      "7891                  Yemen  2009             NaN             9.96000\n",
      "\n",
      "[277 rows x 4 columns]\n",
      "                    Country  Year  GDP_Per_Capita  Internet_Users_Pct\n",
      "5               Afghanistan  2014     2102.385234                6.39\n",
      "23                  Albania  2014    11623.866679               60.10\n",
      "53                  Algeria  2014    11512.705405               18.09\n",
      "83                   Angola  2014     8239.828837               21.26\n",
      "113     Antigua and Barbuda  2014    18104.241470               64.00\n",
      "...                     ...   ...             ...                 ...\n",
      "7762     T.F.Y.R. Macedonia  2014             NaN               68.06\n",
      "7820              Venezuela  2014             NaN               57.00\n",
      "7844               Viet Nam  2014             NaN               48.31\n",
      "7864  Virgin Islands (U.S.)  2014             NaN               50.07\n",
      "7886                  Yemen  2014             NaN               22.55\n",
      "\n",
      "[277 rows x 4 columns]\n"
     ]
    }
   ],
   "source": [
    "#17\n",
    "\n",
    "year2004_df = years[years['Year'] == '2004']\n",
    "print(year2004_df)\n",
    "\n",
    "year2009_df = years[years['Year'] == '2009']\n",
    "print(year2009_df)\n",
    "\n",
    "year2014_df = years[years['Year'] == '2014']\n",
    "print(year2014_df)\n"
   ]
  },
  {
   "cell_type": "code",
   "execution_count": 18,
   "id": "6263b5b9",
   "metadata": {},
   "outputs": [
    {
     "name": "stdout",
     "output_type": "stream",
     "text": [
      "      Country  Year  GDP_Per_Capita  Internet_Users_Pct\n",
      "2625  Iceland  2014      49652.1495               98.16\n"
     ]
    }
   ],
   "source": [
    "#18\n",
    "country_max_perc_2014 = year2014_df[year2014_df['Internet_Users_Pct'] == year2014_df['Internet_Users_Pct'].max()]\n",
    "print(country_max_perc_2014)"
   ]
  },
  {
   "cell_type": "markdown",
   "id": "84e6ed82",
   "metadata": {},
   "source": [
    "#18 Answer:       \n",
    "    Iceland had the highest percentage of internet users in 2014. The percentage was 98.16."
   ]
  },
  {
   "cell_type": "code",
   "execution_count": 19,
   "id": "fd392e5c",
   "metadata": {},
   "outputs": [
    {
     "name": "stdout",
     "output_type": "stream",
     "text": [
      "                          Country  Year  GDP_Per_Capita  Internet_Users_Pct\n",
      "7080  Dem. People's Rep. of Korea  2014             NaN                 0.0\n"
     ]
    }
   ],
   "source": [
    "#19\n",
    "country_min_perc_2014 = year2014_df[year2014_df['Internet_Users_Pct'] == year2014_df['Internet_Users_Pct'].min()]\n",
    "print(country_min_perc_2014)"
   ]
  },
  {
   "cell_type": "markdown",
   "id": "bacdbeee",
   "metadata": {},
   "source": [
    "#19 Answer:\n",
    "Democratic People's Republic of Korea had the lowest Internet Users Percent for 2014."
   ]
  },
  {
   "cell_type": "code",
   "execution_count": 20,
   "id": "286f9808",
   "metadata": {},
   "outputs": [
    {
     "name": "stdout",
     "output_type": "stream",
     "text": [
      "                          Country  Year  GDP_Per_Capita  Internet_Users_Pct\n",
      "7089  Dem. People's Rep. of Korea  2004             NaN                 0.0\n",
      "                          Country  Year  GDP_Per_Capita  Internet_Users_Pct\n",
      "7084  Dem. People's Rep. of Korea  2009             NaN                 0.0\n"
     ]
    }
   ],
   "source": [
    "#20\n",
    "country_min_perc_2004 = year2004_df[year2004_df['Internet_Users_Pct'] == year2004_df['Internet_Users_Pct'].min()]\n",
    "print(country_min_perc_2004)\n",
    "\n",
    "country_min_perc_2009 = year2009_df[year2009_df['Internet_Users_Pct'] == year2009_df['Internet_Users_Pct'].min()]\n",
    "print(country_min_perc_2009)\n"
   ]
  },
  {
   "cell_type": "markdown",
   "id": "d62acd91",
   "metadata": {},
   "source": [
    "#20 Answer: \n",
    "\n",
    "Democratic People's Republic of Korea also had the lowest internet users percentage for 2004 and 2009."
   ]
  },
  {
   "cell_type": "code",
   "execution_count": 21,
   "id": "b07149d3",
   "metadata": {},
   "outputs": [
    {
     "name": "stdout",
     "output_type": "stream",
     "text": [
      "               Country  Year  GDP_Per_Capita  Internet_Users_Pct\n",
      "3721  Macao SAR, China  2014    156514.13385                 NaN\n"
     ]
    }
   ],
   "source": [
    "#21\n",
    "country_max_gdp_2014 = year2014_df[year2014_df['GDP_Per_Capita'] == year2014_df['GDP_Per_Capita'].max()]\n",
    "print(country_max_gdp_2014)"
   ]
  },
  {
   "cell_type": "markdown",
   "id": "d4ebb6c4",
   "metadata": {},
   "source": [
    "#21 Answer:\n",
    "Macao SAR, China had the highest gdp per capita for 2014 at 156514.13385"
   ]
  },
  {
   "cell_type": "code",
   "execution_count": 22,
   "id": "6c6e8070",
   "metadata": {},
   "outputs": [
    {
     "name": "stdout",
     "output_type": "stream",
     "text": [
      "                       Country  Year  GDP_Per_Capita  Internet_Users_Pct\n",
      "1047  Central African Republic  2014      822.610458                 NaN\n"
     ]
    }
   ],
   "source": [
    "#22\n",
    "country_min_gdp_2014 = year2014_df[year2014_df['GDP_Per_Capita'] == year2014_df['GDP_Per_Capita'].min()]\n",
    "print(country_min_gdp_2014)"
   ]
  },
  {
   "cell_type": "markdown",
   "id": "ba79f027",
   "metadata": {},
   "source": [
    "#22 Answer:\n",
    "Central African Republic had the lowest gdp per capita for 2014 at 822.310458"
   ]
  },
  {
   "cell_type": "code",
   "execution_count": 48,
   "id": "11ab7887",
   "metadata": {},
   "outputs": [
    {
     "data": {
      "image/png": "[encoded data removed]",
      "text/plain": [
       "<Figure size 432x288 with 1 Axes>"
      ]
     },
     "metadata": {
      "needs_background": "light"
     },
     "output_type": "display_data"
    }
   ],
   "source": [
    "#23 - For year 2004\n",
    "plt.scatter(year2004_df.GDP_Per_Capita, year2004_df.Internet_Users_Pct)\n",
    "plt.xlabel('GDP Per Capita')\n",
    "plt.ylabel('Internet Users Percentage');\n"
   ]
  },
  {
   "cell_type": "code",
   "execution_count": 47,
   "id": "57b4f4ad",
   "metadata": {},
   "outputs": [
    {
     "data": {
      "image/png": "[encoded data removed]",
      "text/plain": [
       "<Figure size 432x288 with 1 Axes>"
      ]
     },
     "metadata": {
      "needs_background": "light"
     },
     "output_type": "display_data"
    }
   ],
   "source": [
    "#23 Continued - For year 2009\n",
    "\n",
    "plt.scatter(year2009_df.GDP_Per_Capita, year2009_df.Internet_Users_Pct)\n",
    "plt.xlabel('GDP Per Capita')\n",
    "plt.ylabel('Internet Users Percentage');"
   ]
  },
  {
   "cell_type": "code",
   "execution_count": 46,
   "id": "9246966f",
   "metadata": {},
   "outputs": [
    {
     "data": {
      "image/png": "[encoded data removed]",
      "text/plain": [
       "<Figure size 432x288 with 1 Axes>"
      ]
     },
     "metadata": {
      "needs_background": "light"
     },
     "output_type": "display_data"
    }
   ],
   "source": [
    "#23 Continued - For year 2014\n",
    "\n",
    "plt.scatter(year2014_df.GDP_Per_Capita, year2014_df.Internet_Users_Pct)\n",
    "plt.xlabel('GDP Per Capita')\n",
    "plt.ylabel('Internet Users Percentage');"
   ]
  },
  {
   "cell_type": "markdown",
   "id": "35bfbf7e",
   "metadata": {},
   "source": [
    "#24\n",
    "There are differences across years in that we see an enormous increase in internet usage, as we probably should since there was something of a explosion for the information age through these years. One thing we don't see, despite the increase in internet usage, is a large increase in gdp per capita along with it. There appears to be some from years 2009 to 2014, but it isn't drastic. This tells me that the relationship between these two variables isn't strong."
   ]
  },
  {
   "cell_type": "markdown",
   "id": "9d486fd4",
   "metadata": {},
   "source": [
    "#25\n",
    "It appears that it is unimodal in that there is only one maximum value of around 115 thousand."
   ]
  },
  {
   "cell_type": "markdown",
   "id": "4117e223",
   "metadata": {},
   "source": [
    "#26\n",
    "Internet use appears to be multimodal in that one could possibly argue as many as five maximums. Right around 50,000 GDP we see an internet use maximum of about 98%, but we also see internet use close to that around 53,000, 62,000, 78,000, and 106,000 GDPs Per Capita."
   ]
  },
  {
   "cell_type": "code",
   "execution_count": 26,
   "id": "f9aa30b5",
   "metadata": {},
   "outputs": [
    {
     "data": {
      "text/html": [
       "<div>\n",
       "<style scoped>\n",
       "    .dataframe tbody tr th:only-of-type {\n",
       "        vertical-align: middle;\n",
       "    }\n",
       "\n",
       "    .dataframe tbody tr th {\n",
       "        vertical-align: top;\n",
       "    }\n",
       "\n",
       "    .dataframe thead th {\n",
       "        text-align: right;\n",
       "    }\n",
       "</style>\n",
       "<table border=\"1\" class=\"dataframe\">\n",
       "  <thead>\n",
       "    <tr style=\"text-align: right;\">\n",
       "      <th></th>\n",
       "      <th>Country</th>\n",
       "      <th>Year</th>\n",
       "      <th>GDP_Per_Capita</th>\n",
       "      <th>Internet_Users_Pct</th>\n",
       "    </tr>\n",
       "  </thead>\n",
       "  <tbody>\n",
       "    <tr>\n",
       "      <th>2625</th>\n",
       "      <td>Iceland</td>\n",
       "      <td>2014</td>\n",
       "      <td>49652.149500</td>\n",
       "      <td>98.16</td>\n",
       "    </tr>\n",
       "    <tr>\n",
       "      <th>561</th>\n",
       "      <td>Bermuda</td>\n",
       "      <td>2014</td>\n",
       "      <td>77361.104881</td>\n",
       "      <td>96.80</td>\n",
       "    </tr>\n",
       "    <tr>\n",
       "      <th>4648</th>\n",
       "      <td>Norway</td>\n",
       "      <td>2014</td>\n",
       "      <td>62589.373548</td>\n",
       "      <td>96.30</td>\n",
       "    </tr>\n",
       "    <tr>\n",
       "      <th>1452</th>\n",
       "      <td>Denmark</td>\n",
       "      <td>2014</td>\n",
       "      <td>52214.537753</td>\n",
       "      <td>95.99</td>\n",
       "    </tr>\n",
       "    <tr>\n",
       "      <th>6872</th>\n",
       "      <td>Andorra</td>\n",
       "      <td>2014</td>\n",
       "      <td>NaN</td>\n",
       "      <td>95.90</td>\n",
       "    </tr>\n",
       "  </tbody>\n",
       "</table>\n",
       "</div>"
      ],
      "text/plain": [
       "      Country  Year  GDP_Per_Capita  Internet_Users_Pct\n",
       "2625  Iceland  2014    49652.149500               98.16\n",
       "561   Bermuda  2014    77361.104881               96.80\n",
       "4648   Norway  2014    62589.373548               96.30\n",
       "1452  Denmark  2014    52214.537753               95.99\n",
       "6872  Andorra  2014             NaN               95.90"
      ]
     },
     "execution_count": 26,
     "metadata": {},
     "output_type": "execute_result"
    }
   ],
   "source": [
    "#27\n",
    "\n",
    "year2014PercDesc = year2014_df.sort_values(by = 'Internet_Users_Pct', ascending=False)\n",
    "year2014PercDesc.head()"
   ]
  },
  {
   "cell_type": "code",
   "execution_count": 27,
   "id": "08a96e59",
   "metadata": {},
   "outputs": [
    {
     "name": "stdout",
     "output_type": "stream",
     "text": [
      "      Country  Year  GDP_Per_Capita  Internet_Users_Pct\n",
      "561   Bermuda  2014    77361.104881           96.800000\n",
      "566   Bermuda  2009    89961.982744           83.250000\n",
      "571   Bermuda  2004    90195.811033           60.990867\n",
      "1452  Denmark  2014    52214.537753           95.990000\n",
      "1457  Denmark  2009    50274.075696           86.840000\n",
      "1462  Denmark  2004    50607.628971           80.930000\n",
      "2625  Iceland  2014    49652.149500           98.160000\n",
      "2630  Iceland  2009    48177.084123           93.000000\n",
      "2635  Iceland  2004    45145.545658           83.880000\n",
      "4648   Norway  2014    62589.373548           96.300000\n",
      "4653   Norway  2009    61886.564498           92.080000\n",
      "4658   Norway  2004    60893.410993           77.690000\n",
      "6872  Andorra  2014             NaN           95.900000\n",
      "6877  Andorra  2009             NaN           78.530000\n",
      "6882  Andorra  2004             NaN           26.837954\n"
     ]
    }
   ],
   "source": [
    "#28\n",
    "top5Internet_df = years[years['Country'].isin(['Iceland', 'Bermuda', 'Norway', 'Denmark', 'Andorra'])]\n",
    "print(top5Internet_df)"
   ]
  },
  {
   "cell_type": "code",
   "execution_count": 28,
   "id": "f2c5b454",
   "metadata": {},
   "outputs": [
    {
     "data": {
      "image/png": "[encoded data removed]",
      "text/plain": [
       "<Figure size 1080x216 with 5 Axes>"
      ]
     },
     "metadata": {
      "needs_background": "light"
     },
     "output_type": "display_data"
    }
   ],
   "source": [
    "#29\n",
    "top5YearsAsc_df = top5Internet_df = top5Internet_df.sort_values(by = 'Year', ascending=True)\n",
    "g = sns.FacetGrid(top5YearsAsc_df, col='Country')\n",
    "g = g.map(sns.scatterplot, 'Year', 'Internet_Users_Pct')"
   ]
  },
  {
   "cell_type": "markdown",
   "id": "5d93b46c",
   "metadata": {},
   "source": [
    "#29 Answer: Andorra had the greatest amount of growth in internet usage between 2004 and 2014."
   ]
  },
  {
   "cell_type": "code",
   "execution_count": 29,
   "id": "2e133a33",
   "metadata": {},
   "outputs": [
    {
     "name": "stdout",
     "output_type": "stream",
     "text": [
      "                          Country  Year  GDP_Per_Capita  Internet_Users_Pct\n",
      "827                       Burundi  2014      886.235777            1.380000\n",
      "832                       Burundi  2009      831.564131            0.900000\n",
      "837                       Burundi  2004      817.460585            0.349060\n",
      "6219                  Timor-Leste  2014     3264.568070            1.140000\n",
      "6224                  Timor-Leste  2009     2724.770973            0.185252\n",
      "6229                  Timor-Leste  2004     2258.608056                 NaN\n",
      "7080  Dem. People's Rep. of Korea  2014             NaN            0.000000\n",
      "7084  Dem. People's Rep. of Korea  2009             NaN            0.000000\n",
      "7089  Dem. People's Rep. of Korea  2004             NaN            0.000000\n",
      "7138                      Eritrea  2014             NaN            0.990000\n",
      "7143                      Eritrea  2009             NaN            0.540000\n",
      "7675                      Somalia  2014             NaN            1.630000\n",
      "7679                      Somalia  2009             NaN            1.160611\n",
      "7684                      Somalia  2004             NaN            1.053455\n"
     ]
    }
   ],
   "source": [
    "#30\n",
    "year2014PercAsc = year2014_df.sort_values(by = 'Internet_Users_Pct', ascending=True)\n",
    "year2014PercAsc.head()\n",
    "\n",
    "bottom5Internet_df = years[years['Country'].isin([\"Dem. People's Rep. of Korea\", \"Eritrea\",\"Timor-Leste\", \"Burundi\", \"Somalia\"])]\n",
    "print(bottom5Internet_df)"
   ]
  },
  {
   "cell_type": "code",
   "execution_count": 30,
   "id": "de8a940f",
   "metadata": {},
   "outputs": [
    {
     "data": {
      "image/png": "[encoded data removed]",
      "text/plain": [
       "<Figure size 1080x216 with 5 Axes>"
      ]
     },
     "metadata": {
      "needs_background": "light"
     },
     "output_type": "display_data"
    }
   ],
   "source": [
    "bottom5YearsAsc_df = bottom5Internet_df = bottom5Internet_df.sort_values(by = 'Year', ascending=True)\n",
    "g = sns.FacetGrid(bottom5YearsAsc_df, col='Country')\n",
    "g = g.map(sns.scatterplot, 'Year', 'Internet_Users_Pct')"
   ]
  },
  {
   "cell_type": "markdown",
   "id": "ab4320a0",
   "metadata": {},
   "source": [
    "#30 Answer: Dem. People's Rep. of Korea has consistently had the least internet usage from 2004 to 2014"
   ]
  },
  {
   "cell_type": "code",
   "execution_count": 31,
   "id": "4ceb84a4",
   "metadata": {},
   "outputs": [
    {
     "data": {
      "text/html": [
       "<div>\n",
       "<style scoped>\n",
       "    .dataframe tbody tr th:only-of-type {\n",
       "        vertical-align: middle;\n",
       "    }\n",
       "\n",
       "    .dataframe tbody tr th {\n",
       "        vertical-align: top;\n",
       "    }\n",
       "\n",
       "    .dataframe thead th {\n",
       "        text-align: right;\n",
       "    }\n",
       "</style>\n",
       "<table border=\"1\" class=\"dataframe\">\n",
       "  <thead>\n",
       "    <tr style=\"text-align: right;\">\n",
       "      <th></th>\n",
       "      <th>Country</th>\n",
       "      <th>Year</th>\n",
       "      <th>GDP_Per_Capita</th>\n",
       "      <th>Internet_Users_Pct</th>\n",
       "    </tr>\n",
       "  </thead>\n",
       "  <tbody>\n",
       "    <tr>\n",
       "      <th>3721</th>\n",
       "      <td>Macao SAR, China</td>\n",
       "      <td>2014</td>\n",
       "      <td>156514.133850</td>\n",
       "      <td>NaN</td>\n",
       "    </tr>\n",
       "    <tr>\n",
       "      <th>3691</th>\n",
       "      <td>Luxembourg</td>\n",
       "      <td>2014</td>\n",
       "      <td>108760.916030</td>\n",
       "      <td>94.67</td>\n",
       "    </tr>\n",
       "    <tr>\n",
       "      <th>5138</th>\n",
       "      <td>Qatar</td>\n",
       "      <td>2014</td>\n",
       "      <td>95578.416973</td>\n",
       "      <td>91.49</td>\n",
       "    </tr>\n",
       "    <tr>\n",
       "      <th>5464</th>\n",
       "      <td>Singapore</td>\n",
       "      <td>2014</td>\n",
       "      <td>87808.663157</td>\n",
       "      <td>82.00</td>\n",
       "    </tr>\n",
       "    <tr>\n",
       "      <th>561</th>\n",
       "      <td>Bermuda</td>\n",
       "      <td>2014</td>\n",
       "      <td>77361.104881</td>\n",
       "      <td>96.80</td>\n",
       "    </tr>\n",
       "  </tbody>\n",
       "</table>\n",
       "</div>"
      ],
      "text/plain": [
       "               Country  Year  GDP_Per_Capita  Internet_Users_Pct\n",
       "3721  Macao SAR, China  2014   156514.133850                 NaN\n",
       "3691        Luxembourg  2014   108760.916030               94.67\n",
       "5138             Qatar  2014    95578.416973               91.49\n",
       "5464         Singapore  2014    87808.663157               82.00\n",
       "561            Bermuda  2014    77361.104881               96.80"
      ]
     },
     "execution_count": 31,
     "metadata": {},
     "output_type": "execute_result"
    }
   ],
   "source": [
    "#31\n",
    "top5Gdp = year2014_df.sort_values(by = 'GDP_Per_Capita', ascending=False)\n",
    "top5Gdp.head()"
   ]
  },
  {
   "cell_type": "code",
   "execution_count": 32,
   "id": "4e74a6be",
   "metadata": {},
   "outputs": [
    {
     "name": "stdout",
     "output_type": "stream",
     "text": [
      "               Country  Year  GDP_Per_Capita  Internet_Users_Pct\n",
      "3721  Macao SAR, China  2014   156514.133850                 NaN\n",
      "3691        Luxembourg  2014   108760.916030           94.670000\n",
      "3696        Luxembourg  2009   104932.811953           87.310000\n",
      "3701        Luxembourg  2004   102708.212547           65.880000\n",
      "3726  Macao SAR, China  2009    95939.340822                 NaN\n",
      "5138             Qatar  2014    95578.416973           91.490000\n",
      "5148             Qatar  2004    93748.301216           20.701648\n",
      "571            Bermuda  2004    90195.811033           60.990867\n",
      "566            Bermuda  2009    89961.982744           83.250000\n",
      "5143             Qatar  2009    89954.519993           53.100000\n",
      "5464         Singapore  2014    87808.663157           82.000000\n",
      "561            Bermuda  2014    77361.104881           96.800000\n",
      "3731  Macao SAR, China  2004    72944.409424                 NaN\n",
      "5469         Singapore  2009    69466.581746           69.000000\n",
      "5474         Singapore  2004    63901.716368           62.000000\n"
     ]
    }
   ],
   "source": [
    "#31 Continued\n",
    "\n",
    "top5Gdp_df = years[years['Country'].isin(['Macao SAR, China','Luxembourg', 'Qatar', 'Singapore', 'Bermuda'])]\n",
    "top5GdpDsc_df = top5Gdp_df.sort_values(by = 'GDP_Per_Capita', ascending=False)\n",
    "print(top5GdpDsc_df)\n"
   ]
  },
  {
   "cell_type": "code",
   "execution_count": 33,
   "id": "a98846e0",
   "metadata": {
    "scrolled": true
   },
   "outputs": [
    {
     "data": {
      "image/png": "[encoded data removed]",
      "text/plain": [
       "<Figure size 1080x216 with 5 Axes>"
      ]
     },
     "metadata": {
      "needs_background": "light"
     },
     "output_type": "display_data"
    }
   ],
   "source": [
    "#31 Continued\n",
    "top5GdpYearsAsc_df = top5GdpDsc_df.sort_values(by = 'Year', ascending=True)\n",
    "g = sns.FacetGrid(top5GdpYearsAsc_df, col='Country')\n",
    "g = g.map(sns.scatterplot, 'Year', 'GDP_Per_Capita')"
   ]
  },
  {
   "cell_type": "code",
   "execution_count": 34,
   "id": "2cd51990",
   "metadata": {},
   "outputs": [
    {
     "data": {
      "text/html": [
       "<div>\n",
       "<style scoped>\n",
       "    .dataframe tbody tr th:only-of-type {\n",
       "        vertical-align: middle;\n",
       "    }\n",
       "\n",
       "    .dataframe tbody tr th {\n",
       "        vertical-align: top;\n",
       "    }\n",
       "\n",
       "    .dataframe thead th {\n",
       "        text-align: right;\n",
       "    }\n",
       "</style>\n",
       "<table border=\"1\" class=\"dataframe\">\n",
       "  <thead>\n",
       "    <tr style=\"text-align: right;\">\n",
       "      <th></th>\n",
       "      <th>Country</th>\n",
       "      <th>Year</th>\n",
       "      <th>GDP_Per_Capita</th>\n",
       "      <th>Internet_Users_Pct</th>\n",
       "    </tr>\n",
       "  </thead>\n",
       "  <tbody>\n",
       "    <tr>\n",
       "      <th>1047</th>\n",
       "      <td>Central African Republic</td>\n",
       "      <td>2014</td>\n",
       "      <td>822.610458</td>\n",
       "      <td>NaN</td>\n",
       "    </tr>\n",
       "    <tr>\n",
       "      <th>827</th>\n",
       "      <td>Burundi</td>\n",
       "      <td>2014</td>\n",
       "      <td>886.235777</td>\n",
       "      <td>1.38</td>\n",
       "    </tr>\n",
       "    <tr>\n",
       "      <th>3781</th>\n",
       "      <td>Malawi</td>\n",
       "      <td>2014</td>\n",
       "      <td>1027.208496</td>\n",
       "      <td>5.83</td>\n",
       "    </tr>\n",
       "    <tr>\n",
       "      <th>1422</th>\n",
       "      <td>Dem. Rep. Congo</td>\n",
       "      <td>2014</td>\n",
       "      <td>1029.790785</td>\n",
       "      <td>NaN</td>\n",
       "    </tr>\n",
       "    <tr>\n",
       "      <th>4528</th>\n",
       "      <td>Niger</td>\n",
       "      <td>2014</td>\n",
       "      <td>1127.615541</td>\n",
       "      <td>1.95</td>\n",
       "    </tr>\n",
       "  </tbody>\n",
       "</table>\n",
       "</div>"
      ],
      "text/plain": [
       "                       Country  Year  GDP_Per_Capita  Internet_Users_Pct\n",
       "1047  Central African Republic  2014      822.610458                 NaN\n",
       "827                    Burundi  2014      886.235777                1.38\n",
       "3781                    Malawi  2014     1027.208496                5.83\n",
       "1422           Dem. Rep. Congo  2014     1029.790785                 NaN\n",
       "4528                     Niger  2014     1127.615541                1.95"
      ]
     },
     "execution_count": 34,
     "metadata": {},
     "output_type": "execute_result"
    }
   ],
   "source": [
    "#32\n",
    "\n",
    "bottom5Gdp = year2014_df.sort_values(by = 'GDP_Per_Capita', ascending=True)\n",
    "bottom5Gdp.head()"
   ]
  },
  {
   "cell_type": "code",
   "execution_count": 35,
   "id": "1206b296",
   "metadata": {},
   "outputs": [
    {
     "name": "stdout",
     "output_type": "stream",
     "text": [
      "                       Country  Year  GDP_Per_Capita  Internet_Users_Pct\n",
      "1432           Dem. Rep. Congo  2004      757.685942                 NaN\n",
      "3791                    Malawi  2004      775.346132            0.347505\n",
      "837                    Burundi  2004      817.460585            0.349060\n",
      "1047  Central African Republic  2014      822.610458                 NaN\n",
      "832                    Burundi  2009      831.564131            0.900000\n",
      "1427           Dem. Rep. Congo  2009      835.611696                 NaN\n",
      "827                    Burundi  2014      886.235777            1.380000\n",
      "4538                     Niger  2004      929.883920            0.189934\n",
      "3786                    Malawi  2009      932.867635            1.070000\n",
      "4533                     Niger  2009      992.409977            0.760000\n",
      "3781                    Malawi  2014     1027.208496            5.830000\n",
      "1422           Dem. Rep. Congo  2014     1029.790785                 NaN\n",
      "1057  Central African Republic  2004     1037.846766                 NaN\n",
      "4528                     Niger  2014     1127.615541            1.950000\n",
      "1052  Central African Republic  2009     1161.189475                 NaN\n"
     ]
    }
   ],
   "source": [
    "#32 Continued\n",
    "\n",
    "bottom5Gdp_df = years[years['Country'].isin(['Central African Republic', 'Burundi', 'Malawi', 'Dem. Rep. Congo', 'Niger'])]\n",
    "bottom5GdpAsc_df = bottom5Gdp_df.sort_values(by = 'GDP_Per_Capita', ascending=True)\n",
    "print(bottom5GdpAsc_df)\n"
   ]
  },
  {
   "cell_type": "code",
   "execution_count": 36,
   "id": "0b729f29",
   "metadata": {},
   "outputs": [
    {
     "data": {
      "image/png": "[encoded data removed]",
      "text/plain": [
       "<Figure size 1080x216 with 5 Axes>"
      ]
     },
     "metadata": {
      "needs_background": "light"
     },
     "output_type": "display_data"
    }
   ],
   "source": [
    "#32 Continued\n",
    "bottom5GdpYearsAsc_df = bottom5GdpAsc_df.sort_values(by = 'Year', ascending=True)\n",
    "g = sns.FacetGrid(bottom5GdpYearsAsc_df, col='Country')\n",
    "g = g.map(sns.scatterplot, 'Year', 'GDP_Per_Capita')"
   ]
  },
  {
   "cell_type": "markdown",
   "id": "0ab066ca",
   "metadata": {},
   "source": [
    "#33. \n",
    "Macao SAR, China is in the top 5 and it's growth from 2009 to 2014 stands out among the others. After some research, this appears to have a lot to do with their booming gaming industry. In fact, their gaming industry is the single most contributor to their explosive economic growth. \n",
    "\n",
    "As far as the bottom five gdp goes, the rapid decline for the Central African Republic (CAR) is something that definetely draws some attention. After some research, I found that their economic system is controlled by the government and because of their mismanagement of it and political instability, the economic situation and gdp has been up and down for over 40 years. In addition to this, the CAR Civil War has been going since 2012.  "
   ]
  },
  {
   "cell_type": "code",
   "execution_count": 37,
   "id": "4b19f253",
   "metadata": {},
   "outputs": [
    {
     "data": {
      "text/html": [
       "<div>\n",
       "<style scoped>\n",
       "    .dataframe tbody tr th:only-of-type {\n",
       "        vertical-align: middle;\n",
       "    }\n",
       "\n",
       "    .dataframe tbody tr th {\n",
       "        vertical-align: top;\n",
       "    }\n",
       "\n",
       "    .dataframe thead th {\n",
       "        text-align: right;\n",
       "    }\n",
       "</style>\n",
       "<table border=\"1\" class=\"dataframe\">\n",
       "  <thead>\n",
       "    <tr style=\"text-align: right;\">\n",
       "      <th></th>\n",
       "      <th>Country or Area</th>\n",
       "      <th>Year</th>\n",
       "      <th>Commodity</th>\n",
       "      <th>Flow</th>\n",
       "      <th>Trade (USD)</th>\n",
       "      <th>Weight (kg)</th>\n",
       "      <th>Quantity Name</th>\n",
       "      <th>Quantity</th>\n",
       "    </tr>\n",
       "  </thead>\n",
       "  <tbody>\n",
       "    <tr>\n",
       "      <th>0</th>\n",
       "      <td>Afghanistan</td>\n",
       "      <td>2018</td>\n",
       "      <td>ALL COMMODITIES</td>\n",
       "      <td>Import</td>\n",
       "      <td>7.406590e+09</td>\n",
       "      <td>NaN</td>\n",
       "      <td>No Quantity</td>\n",
       "      <td>0.0</td>\n",
       "    </tr>\n",
       "    <tr>\n",
       "      <th>1</th>\n",
       "      <td>Afghanistan</td>\n",
       "      <td>2018</td>\n",
       "      <td>ALL COMMODITIES</td>\n",
       "      <td>Export</td>\n",
       "      <td>8.845045e+08</td>\n",
       "      <td>0.0</td>\n",
       "      <td>No Quantity</td>\n",
       "      <td>0.0</td>\n",
       "    </tr>\n",
       "    <tr>\n",
       "      <th>2</th>\n",
       "      <td>Afghanistan</td>\n",
       "      <td>2018</td>\n",
       "      <td>ALL COMMODITIES</td>\n",
       "      <td>Re-Export</td>\n",
       "      <td>9.263097e+06</td>\n",
       "      <td>0.0</td>\n",
       "      <td>No Quantity</td>\n",
       "      <td>0.0</td>\n",
       "    </tr>\n",
       "    <tr>\n",
       "      <th>3</th>\n",
       "      <td>Afghanistan</td>\n",
       "      <td>2016</td>\n",
       "      <td>ALL COMMODITIES</td>\n",
       "      <td>Import</td>\n",
       "      <td>6.534140e+09</td>\n",
       "      <td>NaN</td>\n",
       "      <td>No Quantity</td>\n",
       "      <td>NaN</td>\n",
       "    </tr>\n",
       "    <tr>\n",
       "      <th>4</th>\n",
       "      <td>Afghanistan</td>\n",
       "      <td>2016</td>\n",
       "      <td>ALL COMMODITIES</td>\n",
       "      <td>Export</td>\n",
       "      <td>5.964553e+08</td>\n",
       "      <td>NaN</td>\n",
       "      <td>No Quantity</td>\n",
       "      <td>NaN</td>\n",
       "    </tr>\n",
       "  </tbody>\n",
       "</table>\n",
       "</div>"
      ],
      "text/plain": [
       "  Country or Area  Year        Commodity       Flow   Trade (USD)  \\\n",
       "0     Afghanistan  2018  ALL COMMODITIES     Import  7.406590e+09   \n",
       "1     Afghanistan  2018  ALL COMMODITIES     Export  8.845045e+08   \n",
       "2     Afghanistan  2018  ALL COMMODITIES  Re-Export  9.263097e+06   \n",
       "3     Afghanistan  2016  ALL COMMODITIES     Import  6.534140e+09   \n",
       "4     Afghanistan  2016  ALL COMMODITIES     Export  5.964553e+08   \n",
       "\n",
       "   Weight (kg) Quantity Name  Quantity  \n",
       "0          NaN   No Quantity       0.0  \n",
       "1          0.0   No Quantity       0.0  \n",
       "2          0.0   No Quantity       0.0  \n",
       "3          NaN   No Quantity       NaN  \n",
       "4          NaN   No Quantity       NaN  "
      ]
     },
     "execution_count": 37,
     "metadata": {},
     "output_type": "execute_result"
    }
   ],
   "source": [
    "#Bonus\n",
    "#load Dataset In\n",
    "commodities_df=pd.read_csv('../data/allcommodities.csv')\n",
    "commodities_df.head()\n"
   ]
  },
  {
   "cell_type": "code",
   "execution_count": 38,
   "id": "a3f45336",
   "metadata": {},
   "outputs": [
    {
     "name": "stdout",
     "output_type": "stream",
     "text": [
      "      Country or Area  Year       Flow   Trade (USD)\n",
      "0         Afghanistan  2018     Import  7.406590e+09\n",
      "1         Afghanistan  2018     Export  8.845045e+08\n",
      "2         Afghanistan  2018  Re-Export  9.263097e+06\n",
      "3         Afghanistan  2016     Import  6.534140e+09\n",
      "4         Afghanistan  2016     Export  5.964553e+08\n",
      "...               ...   ...        ...           ...\n",
      "10139        Zimbabwe  2001     Export  1.206663e+09\n",
      "10140        Zimbabwe  2001  Re-Export  1.594229e+07\n",
      "10141        Zimbabwe  2000     Export  1.879631e+09\n",
      "10142        Zimbabwe  1995     Import  2.658853e+09\n",
      "10143        Zimbabwe  1995     Export  1.845906e+09\n",
      "\n",
      "[10144 rows x 4 columns]\n"
     ]
    }
   ],
   "source": [
    "#Disposing of unwanted columns\n",
    "commoditiesNew_df = commodities_df.iloc[:, [0,1,3,4]]\n",
    "print(commoditiesNew_df)"
   ]
  },
  {
   "cell_type": "code",
   "execution_count": 39,
   "id": "85b0d981",
   "metadata": {},
   "outputs": [
    {
     "data": {
      "text/html": [
       "<div>\n",
       "<style scoped>\n",
       "    .dataframe tbody tr th:only-of-type {\n",
       "        vertical-align: middle;\n",
       "    }\n",
       "\n",
       "    .dataframe tbody tr th {\n",
       "        vertical-align: top;\n",
       "    }\n",
       "\n",
       "    .dataframe thead th {\n",
       "        text-align: right;\n",
       "    }\n",
       "</style>\n",
       "<table border=\"1\" class=\"dataframe\">\n",
       "  <thead>\n",
       "    <tr style=\"text-align: right;\">\n",
       "      <th></th>\n",
       "      <th>Country</th>\n",
       "      <th>Year</th>\n",
       "      <th>Flow</th>\n",
       "      <th>Trade (USD)</th>\n",
       "    </tr>\n",
       "  </thead>\n",
       "  <tbody>\n",
       "    <tr>\n",
       "      <th>0</th>\n",
       "      <td>Afghanistan</td>\n",
       "      <td>2018</td>\n",
       "      <td>Import</td>\n",
       "      <td>7.406590e+09</td>\n",
       "    </tr>\n",
       "    <tr>\n",
       "      <th>1</th>\n",
       "      <td>Afghanistan</td>\n",
       "      <td>2018</td>\n",
       "      <td>Export</td>\n",
       "      <td>8.845045e+08</td>\n",
       "    </tr>\n",
       "    <tr>\n",
       "      <th>2</th>\n",
       "      <td>Afghanistan</td>\n",
       "      <td>2018</td>\n",
       "      <td>Re-Export</td>\n",
       "      <td>9.263097e+06</td>\n",
       "    </tr>\n",
       "    <tr>\n",
       "      <th>3</th>\n",
       "      <td>Afghanistan</td>\n",
       "      <td>2016</td>\n",
       "      <td>Import</td>\n",
       "      <td>6.534140e+09</td>\n",
       "    </tr>\n",
       "    <tr>\n",
       "      <th>4</th>\n",
       "      <td>Afghanistan</td>\n",
       "      <td>2016</td>\n",
       "      <td>Export</td>\n",
       "      <td>5.964553e+08</td>\n",
       "    </tr>\n",
       "  </tbody>\n",
       "</table>\n",
       "</div>"
      ],
      "text/plain": [
       "       Country  Year       Flow   Trade (USD)\n",
       "0  Afghanistan  2018     Import  7.406590e+09\n",
       "1  Afghanistan  2018     Export  8.845045e+08\n",
       "2  Afghanistan  2018  Re-Export  9.263097e+06\n",
       "3  Afghanistan  2016     Import  6.534140e+09\n",
       "4  Afghanistan  2016     Export  5.964553e+08"
      ]
     },
     "execution_count": 39,
     "metadata": {},
     "output_type": "execute_result"
    }
   ],
   "source": [
    "#Changing column names\n",
    "commoditiesNew_df.columns = ['Country', 'Year', 'Flow', 'Trade (USD)']\n",
    "commoditiesNew_df.head()"
   ]
  },
  {
   "cell_type": "code",
   "execution_count": 40,
   "id": "5220f29e",
   "metadata": {},
   "outputs": [
    {
     "name": "stdout",
     "output_type": "stream",
     "text": [
      "<class 'pandas.core.frame.DataFrame'>\n",
      "RangeIndex: 10144 entries, 0 to 10143\n",
      "Data columns (total 4 columns):\n",
      " #   Column       Non-Null Count  Dtype  \n",
      "---  ------       --------------  -----  \n",
      " 0   Country      10144 non-null  object \n",
      " 1   Year         10144 non-null  int64  \n",
      " 2   Flow         10144 non-null  object \n",
      " 3   Trade (USD)  10144 non-null  float64\n",
      "dtypes: float64(1), int64(1), object(2)\n",
      "memory usage: 317.1+ KB\n",
      "None\n"
     ]
    }
   ],
   "source": [
    "print(commoditiesNew_df.info())"
   ]
  },
  {
   "cell_type": "code",
   "execution_count": 41,
   "id": "6cf4a2b3",
   "metadata": {},
   "outputs": [
    {
     "data": {
      "text/plain": [
       "0        2018\n",
       "1        2018\n",
       "2        2018\n",
       "3        2016\n",
       "4        2016\n",
       "         ... \n",
       "10139    2001\n",
       "10140    2001\n",
       "10141    2000\n",
       "10142    1995\n",
       "10143    1995\n",
       "Name: Year, Length: 10144, dtype: object"
      ]
     },
     "execution_count": 41,
     "metadata": {},
     "output_type": "execute_result"
    }
   ],
   "source": [
    "commoditiesNew_df['Year'].astype(str)"
   ]
  },
  {
   "cell_type": "code",
   "execution_count": 44,
   "id": "d07e0b77",
   "metadata": {},
   "outputs": [
    {
     "name": "stdout",
     "output_type": "stream",
     "text": [
      "<class 'pandas.core.frame.DataFrame'>\n",
      "RangeIndex: 10144 entries, 0 to 10143\n",
      "Data columns (total 4 columns):\n",
      " #   Column       Non-Null Count  Dtype  \n",
      "---  ------       --------------  -----  \n",
      " 0   Country      10144 non-null  object \n",
      " 1   Year         10144 non-null  int64  \n",
      " 2   Flow         10144 non-null  object \n",
      " 3   Trade (USD)  10144 non-null  float64\n",
      "dtypes: float64(1), int64(1), object(2)\n",
      "memory usage: 317.1+ KB\n",
      "None\n"
     ]
    }
   ],
   "source": [
    "print(commoditiesNew_df.info())"
   ]
  },
  {
   "cell_type": "code",
   "execution_count": null,
   "id": "272cb14a",
   "metadata": {},
   "outputs": [],
   "source": []
  }
 ],
 "metadata": {
  "kernelspec": {
   "display_name": "Python 3 (ipykernel)",
   "language": "python",
   "name": "python3"
  },
  "language_info": {
   "codemirror_mode": {
    "name": "ipython",
    "version": 3
   },
   "file_extension": ".py",
   "mimetype": "text/x-python",
   "name": "python",
   "nbconvert_exporter": "python",
   "pygments_lexer": "ipython3",
   "version": "3.9.7"
  }
 },
 "nbformat": 4,
 "nbformat_minor": 5
}
