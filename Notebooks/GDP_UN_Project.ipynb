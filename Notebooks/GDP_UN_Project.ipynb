{
 "cells": [
  {
   "cell_type": "code",
   "execution_count": 1,
   "id": "b449bd2d",
   "metadata": {},
   "outputs": [
    {
     "data": {
      "text/html": [
       "<div>\n",
       "<style scoped>\n",
       "    .dataframe tbody tr th:only-of-type {\n",
       "        vertical-align: middle;\n",
       "    }\n",
       "\n",
       "    .dataframe tbody tr th {\n",
       "        vertical-align: top;\n",
       "    }\n",
       "\n",
       "    .dataframe thead th {\n",
       "        text-align: right;\n",
       "    }\n",
       "</style>\n",
       "<table border=\"1\" class=\"dataframe\">\n",
       "  <thead>\n",
       "    <tr style=\"text-align: right;\">\n",
       "      <th></th>\n",
       "      <th>Country or Area</th>\n",
       "      <th>Year</th>\n",
       "      <th>Value</th>\n",
       "      <th>Value Footnotes</th>\n",
       "    </tr>\n",
       "  </thead>\n",
       "  <tbody>\n",
       "    <tr>\n",
       "      <th>0</th>\n",
       "      <td>Afghanistan</td>\n",
       "      <td>2019</td>\n",
       "      <td>2065.036398</td>\n",
       "      <td>NaN</td>\n",
       "    </tr>\n",
       "    <tr>\n",
       "      <th>1</th>\n",
       "      <td>Afghanistan</td>\n",
       "      <td>2018</td>\n",
       "      <td>2033.779002</td>\n",
       "      <td>NaN</td>\n",
       "    </tr>\n",
       "    <tr>\n",
       "      <th>2</th>\n",
       "      <td>Afghanistan</td>\n",
       "      <td>2017</td>\n",
       "      <td>2058.383832</td>\n",
       "      <td>NaN</td>\n",
       "    </tr>\n",
       "    <tr>\n",
       "      <th>3</th>\n",
       "      <td>Afghanistan</td>\n",
       "      <td>2016</td>\n",
       "      <td>2057.062164</td>\n",
       "      <td>NaN</td>\n",
       "    </tr>\n",
       "    <tr>\n",
       "      <th>4</th>\n",
       "      <td>Afghanistan</td>\n",
       "      <td>2015</td>\n",
       "      <td>2068.265904</td>\n",
       "      <td>NaN</td>\n",
       "    </tr>\n",
       "  </tbody>\n",
       "</table>\n",
       "</div>"
      ],
      "text/plain": [
       "  Country or Area  Year        Value  Value Footnotes\n",
       "0     Afghanistan  2019  2065.036398              NaN\n",
       "1     Afghanistan  2018  2033.779002              NaN\n",
       "2     Afghanistan  2017  2058.383832              NaN\n",
       "3     Afghanistan  2016  2057.062164              NaN\n",
       "4     Afghanistan  2015  2068.265904              NaN"
      ]
     },
     "execution_count": 1,
     "metadata": {},
     "output_type": "execute_result"
    }
   ],
   "source": [
    "#3\n",
    "import pandas as pd\n",
    "import numpy as np\n",
    "import matplotlib.pyplot as plt\n",
    "import seaborn as sns\n",
    "\n",
    "#4\n",
    "%matplotlib inline\n",
    "#5\n",
    "gdp_df=pd.read_csv('../data/gdp_percapita.csv')\n",
    "gdp_df.head()"
   ]
  },
  {
   "cell_type": "code",
   "execution_count": 2,
   "id": "392683a7",
   "metadata": {},
   "outputs": [
    {
     "data": {
      "text/html": [
       "<div>\n",
       "<style scoped>\n",
       "    .dataframe tbody tr th:only-of-type {\n",
       "        vertical-align: middle;\n",
       "    }\n",
       "\n",
       "    .dataframe tbody tr th {\n",
       "        vertical-align: top;\n",
       "    }\n",
       "\n",
       "    .dataframe thead th {\n",
       "        text-align: right;\n",
       "    }\n",
       "</style>\n",
       "<table border=\"1\" class=\"dataframe\">\n",
       "  <thead>\n",
       "    <tr style=\"text-align: right;\">\n",
       "      <th></th>\n",
       "      <th>Country or Area</th>\n",
       "      <th>Year</th>\n",
       "      <th>Value</th>\n",
       "      <th>Value Footnotes</th>\n",
       "    </tr>\n",
       "  </thead>\n",
       "  <tbody>\n",
       "    <tr>\n",
       "      <th>0</th>\n",
       "      <td>Afghanistan</td>\n",
       "      <td>2014</td>\n",
       "      <td>6.390000</td>\n",
       "      <td>NaN</td>\n",
       "    </tr>\n",
       "    <tr>\n",
       "      <th>1</th>\n",
       "      <td>Afghanistan</td>\n",
       "      <td>2013</td>\n",
       "      <td>5.900000</td>\n",
       "      <td>NaN</td>\n",
       "    </tr>\n",
       "    <tr>\n",
       "      <th>2</th>\n",
       "      <td>Afghanistan</td>\n",
       "      <td>2012</td>\n",
       "      <td>5.454545</td>\n",
       "      <td>NaN</td>\n",
       "    </tr>\n",
       "    <tr>\n",
       "      <th>3</th>\n",
       "      <td>Afghanistan</td>\n",
       "      <td>2011</td>\n",
       "      <td>5.000000</td>\n",
       "      <td>NaN</td>\n",
       "    </tr>\n",
       "    <tr>\n",
       "      <th>4</th>\n",
       "      <td>Afghanistan</td>\n",
       "      <td>2010</td>\n",
       "      <td>4.000000</td>\n",
       "      <td>NaN</td>\n",
       "    </tr>\n",
       "  </tbody>\n",
       "</table>\n",
       "</div>"
      ],
      "text/plain": [
       "  Country or Area  Year     Value  Value Footnotes\n",
       "0     Afghanistan  2014  6.390000              NaN\n",
       "1     Afghanistan  2013  5.900000              NaN\n",
       "2     Afghanistan  2012  5.454545              NaN\n",
       "3     Afghanistan  2011  5.000000              NaN\n",
       "4     Afghanistan  2010  4.000000              NaN"
      ]
     },
     "execution_count": 2,
     "metadata": {},
     "output_type": "execute_result"
    }
   ],
   "source": [
    "#6\n",
    "\n",
    "internet_df=pd.read_csv('../data/internet_use.csv',nrows=4496)\n",
    "internet_df.head()"
   ]
  },
  {
   "cell_type": "code",
   "execution_count": 3,
   "id": "1d2ef497",
   "metadata": {},
   "outputs": [
    {
     "name": "stdout",
     "output_type": "stream",
     "text": [
      "(6870, 4)\n"
     ]
    }
   ],
   "source": [
    "#7\n",
    "\n",
    "print(gdp_df.shape)"
   ]
  },
  {
   "cell_type": "markdown",
   "id": "50c45b97",
   "metadata": {},
   "source": [
    "Answer: The shape of the internet use dataset is 6,870 rows and 4 columns"
   ]
  },
  {
   "cell_type": "code",
   "execution_count": 4,
   "id": "e62756b5",
   "metadata": {},
   "outputs": [
    {
     "name": "stdout",
     "output_type": "stream",
     "text": [
      "(4496, 4)\n"
     ]
    }
   ],
   "source": [
    "#7 Continued\n",
    "\n",
    "print(internet_df.shape)"
   ]
  },
  {
   "cell_type": "markdown",
   "id": "6a0a8b1f",
   "metadata": {},
   "source": [
    "Answer: The shape of the internet use dataset is 4,496 rows and 4 columns"
   ]
  },
  {
   "cell_type": "code",
   "execution_count": 5,
   "id": "e65c6215",
   "metadata": {},
   "outputs": [
    {
     "name": "stdout",
     "output_type": "stream",
     "text": [
      "<class 'pandas.core.frame.DataFrame'>\n",
      "RangeIndex: 6870 entries, 0 to 6869\n",
      "Data columns (total 4 columns):\n",
      " #   Column           Non-Null Count  Dtype  \n",
      "---  ------           --------------  -----  \n",
      " 0   Country or Area  6870 non-null   object \n",
      " 1   Year             6870 non-null   object \n",
      " 2   Value            6868 non-null   float64\n",
      " 3   Value Footnotes  1 non-null      float64\n",
      "dtypes: float64(2), object(2)\n",
      "memory usage: 214.8+ KB\n",
      "None\n"
     ]
    }
   ],
   "source": [
    "#8\n",
    "\n",
    "print(gdp_df.info())"
   ]
  },
  {
   "cell_type": "code",
   "execution_count": 6,
   "id": "db3bfa96",
   "metadata": {},
   "outputs": [
    {
     "name": "stdout",
     "output_type": "stream",
     "text": [
      "<class 'pandas.core.frame.DataFrame'>\n",
      "RangeIndex: 4496 entries, 0 to 4495\n",
      "Data columns (total 4 columns):\n",
      " #   Column           Non-Null Count  Dtype  \n",
      "---  ------           --------------  -----  \n",
      " 0   Country or Area  4496 non-null   object \n",
      " 1   Year             4496 non-null   object \n",
      " 2   Value            4495 non-null   float64\n",
      " 3   Value Footnotes  948 non-null    float64\n",
      "dtypes: float64(2), object(2)\n",
      "memory usage: 140.6+ KB\n",
      "None\n"
     ]
    }
   ],
   "source": [
    "#8 Continued\n",
    "\n",
    "print(internet_df.info())"
   ]
  },
  {
   "cell_type": "code",
   "execution_count": 7,
   "id": "2135b249",
   "metadata": {},
   "outputs": [
    {
     "name": "stdout",
     "output_type": "stream",
     "text": [
      "     Country or Area                                      Year        Value  \\\n",
      "6860        Zimbabwe                                      1997  3580.048793   \n",
      "6861        Zimbabwe                                      1996  3520.430146   \n",
      "6862        Zimbabwe                                      1995  3226.413930   \n",
      "6863        Zimbabwe                                      1994  3263.934978   \n",
      "6864        Zimbabwe                                      1993  3033.504852   \n",
      "6865        Zimbabwe                                      1992  3054.889178   \n",
      "6866        Zimbabwe                                      1991  3426.598094   \n",
      "6867        Zimbabwe                                      1990  3324.348171   \n",
      "6868   footnoteSeqID                                  Footnote          NaN   \n",
      "6869               2  Excludes South Sudan after July 9, 2011.          NaN   \n",
      "\n",
      "      Value Footnotes  \n",
      "6860              NaN  \n",
      "6861              NaN  \n",
      "6862              NaN  \n",
      "6863              NaN  \n",
      "6864              NaN  \n",
      "6865              NaN  \n",
      "6866              NaN  \n",
      "6867              NaN  \n",
      "6868              NaN  \n",
      "6869              NaN  \n"
     ]
    }
   ],
   "source": [
    "#9\n",
    "print(gdp_df.tail(10))  "
   ]
  },
  {
   "cell_type": "code",
   "execution_count": 8,
   "id": "55d585f9",
   "metadata": {},
   "outputs": [
    {
     "name": "stdout",
     "output_type": "stream",
     "text": [
      "     Country or Area      Year     Value  Value Footnotes\n",
      "4486        Zimbabwe      2001  0.799846              NaN\n",
      "4487        Zimbabwe      2000  0.401434              NaN\n",
      "4488        Zimbabwe      1999  0.161676              NaN\n",
      "4489        Zimbabwe      1998  0.081648              NaN\n",
      "4490        Zimbabwe      1997  0.033080              NaN\n",
      "4491        Zimbabwe      1996  0.016790              NaN\n",
      "4492        Zimbabwe      1995  0.007684              NaN\n",
      "4493        Zimbabwe      1994  0.001739              NaN\n",
      "4494        Zimbabwe      1990  0.000000              NaN\n",
      "4495   footnoteSeqID  Footnote       NaN              NaN\n"
     ]
    }
   ],
   "source": [
    "#9 Continued\n",
    "\n",
    "print(internet_df.tail(10)) "
   ]
  },
  {
   "cell_type": "code",
   "execution_count": 9,
   "id": "e3018655",
   "metadata": {},
   "outputs": [
    {
     "name": "stdout",
     "output_type": "stream",
     "text": [
      "  Country or Area  Year        Value\n",
      "0     Afghanistan  2019  2065.036398\n",
      "1     Afghanistan  2018  2033.779002\n",
      "2     Afghanistan  2017  2058.383832\n",
      "3     Afghanistan  2016  2057.062164\n",
      "4     Afghanistan  2015  2068.265904\n"
     ]
    }
   ],
   "source": [
    "#10.\n",
    "\n",
    "del gdp_df['Value Footnotes']\n",
    "print(gdp_df.head())"
   ]
  },
  {
   "cell_type": "code",
   "execution_count": 10,
   "id": "fa9e633b",
   "metadata": {},
   "outputs": [
    {
     "name": "stdout",
     "output_type": "stream",
     "text": [
      "  Country or Area  Year     Value\n",
      "0     Afghanistan  2014  6.390000\n",
      "1     Afghanistan  2013  5.900000\n",
      "2     Afghanistan  2012  5.454545\n",
      "3     Afghanistan  2011  5.000000\n",
      "4     Afghanistan  2010  4.000000\n"
     ]
    }
   ],
   "source": [
    "#10 Continued\n",
    "\n",
    "del internet_df['Value Footnotes']\n",
    "print(internet_df.head())"
   ]
  },
  {
   "cell_type": "code",
   "execution_count": 11,
   "id": "291c0968",
   "metadata": {},
   "outputs": [
    {
     "data": {
      "text/html": [
       "<div>\n",
       "<style scoped>\n",
       "    .dataframe tbody tr th:only-of-type {\n",
       "        vertical-align: middle;\n",
       "    }\n",
       "\n",
       "    .dataframe tbody tr th {\n",
       "        vertical-align: top;\n",
       "    }\n",
       "\n",
       "    .dataframe thead th {\n",
       "        text-align: right;\n",
       "    }\n",
       "</style>\n",
       "<table border=\"1\" class=\"dataframe\">\n",
       "  <thead>\n",
       "    <tr style=\"text-align: right;\">\n",
       "      <th></th>\n",
       "      <th>Country</th>\n",
       "      <th>Year</th>\n",
       "      <th>GDP_Per_Capita</th>\n",
       "    </tr>\n",
       "  </thead>\n",
       "  <tbody>\n",
       "    <tr>\n",
       "      <th>0</th>\n",
       "      <td>Afghanistan</td>\n",
       "      <td>2019</td>\n",
       "      <td>2065.036398</td>\n",
       "    </tr>\n",
       "    <tr>\n",
       "      <th>1</th>\n",
       "      <td>Afghanistan</td>\n",
       "      <td>2018</td>\n",
       "      <td>2033.779002</td>\n",
       "    </tr>\n",
       "    <tr>\n",
       "      <th>2</th>\n",
       "      <td>Afghanistan</td>\n",
       "      <td>2017</td>\n",
       "      <td>2058.383832</td>\n",
       "    </tr>\n",
       "    <tr>\n",
       "      <th>3</th>\n",
       "      <td>Afghanistan</td>\n",
       "      <td>2016</td>\n",
       "      <td>2057.062164</td>\n",
       "    </tr>\n",
       "    <tr>\n",
       "      <th>4</th>\n",
       "      <td>Afghanistan</td>\n",
       "      <td>2015</td>\n",
       "      <td>2068.265904</td>\n",
       "    </tr>\n",
       "  </tbody>\n",
       "</table>\n",
       "</div>"
      ],
      "text/plain": [
       "       Country  Year  GDP_Per_Capita\n",
       "0  Afghanistan  2019     2065.036398\n",
       "1  Afghanistan  2018     2033.779002\n",
       "2  Afghanistan  2017     2058.383832\n",
       "3  Afghanistan  2016     2057.062164\n",
       "4  Afghanistan  2015     2068.265904"
      ]
     },
     "execution_count": 11,
     "metadata": {},
     "output_type": "execute_result"
    }
   ],
   "source": [
    "#11\n",
    "gdp_df.columns = [\"Country\", \"Year\", \"GDP_Per_Capita\"]\n",
    "gdp_df.head()"
   ]
  },
  {
   "cell_type": "code",
   "execution_count": 12,
   "id": "5d6f1e2d",
   "metadata": {},
   "outputs": [
    {
     "data": {
      "text/html": [
       "<div>\n",
       "<style scoped>\n",
       "    .dataframe tbody tr th:only-of-type {\n",
       "        vertical-align: middle;\n",
       "    }\n",
       "\n",
       "    .dataframe tbody tr th {\n",
       "        vertical-align: top;\n",
       "    }\n",
       "\n",
       "    .dataframe thead th {\n",
       "        text-align: right;\n",
       "    }\n",
       "</style>\n",
       "<table border=\"1\" class=\"dataframe\">\n",
       "  <thead>\n",
       "    <tr style=\"text-align: right;\">\n",
       "      <th></th>\n",
       "      <th>Country</th>\n",
       "      <th>Year</th>\n",
       "      <th>Internet_Users_Pct</th>\n",
       "    </tr>\n",
       "  </thead>\n",
       "  <tbody>\n",
       "    <tr>\n",
       "      <th>0</th>\n",
       "      <td>Afghanistan</td>\n",
       "      <td>2014</td>\n",
       "      <td>6.390000</td>\n",
       "    </tr>\n",
       "    <tr>\n",
       "      <th>1</th>\n",
       "      <td>Afghanistan</td>\n",
       "      <td>2013</td>\n",
       "      <td>5.900000</td>\n",
       "    </tr>\n",
       "    <tr>\n",
       "      <th>2</th>\n",
       "      <td>Afghanistan</td>\n",
       "      <td>2012</td>\n",
       "      <td>5.454545</td>\n",
       "    </tr>\n",
       "    <tr>\n",
       "      <th>3</th>\n",
       "      <td>Afghanistan</td>\n",
       "      <td>2011</td>\n",
       "      <td>5.000000</td>\n",
       "    </tr>\n",
       "    <tr>\n",
       "      <th>4</th>\n",
       "      <td>Afghanistan</td>\n",
       "      <td>2010</td>\n",
       "      <td>4.000000</td>\n",
       "    </tr>\n",
       "  </tbody>\n",
       "</table>\n",
       "</div>"
      ],
      "text/plain": [
       "       Country  Year  Internet_Users_Pct\n",
       "0  Afghanistan  2014            6.390000\n",
       "1  Afghanistan  2013            5.900000\n",
       "2  Afghanistan  2012            5.454545\n",
       "3  Afghanistan  2011            5.000000\n",
       "4  Afghanistan  2010            4.000000"
      ]
     },
     "execution_count": 12,
     "metadata": {},
     "output_type": "execute_result"
    }
   ],
   "source": [
    "#12\n",
    "internet_df.columns = [\"Country\", \"Year\", \"Internet_Users_Pct\"]\n",
    "internet_df.head()"
   ]
  },
  {
   "cell_type": "code",
   "execution_count": 13,
   "id": "af9abe19",
   "metadata": {},
   "outputs": [
    {
     "data": {
      "text/html": [
       "<div>\n",
       "<style scoped>\n",
       "    .dataframe tbody tr th:only-of-type {\n",
       "        vertical-align: middle;\n",
       "    }\n",
       "\n",
       "    .dataframe tbody tr th {\n",
       "        vertical-align: top;\n",
       "    }\n",
       "\n",
       "    .dataframe thead th {\n",
       "        text-align: right;\n",
       "    }\n",
       "</style>\n",
       "<table border=\"1\" class=\"dataframe\">\n",
       "  <thead>\n",
       "    <tr style=\"text-align: right;\">\n",
       "      <th></th>\n",
       "      <th>Country</th>\n",
       "      <th>Year</th>\n",
       "      <th>GDP_Per_Capita</th>\n",
       "      <th>Internet_Users_Pct</th>\n",
       "    </tr>\n",
       "  </thead>\n",
       "  <tbody>\n",
       "    <tr>\n",
       "      <th>0</th>\n",
       "      <td>Afghanistan</td>\n",
       "      <td>2014</td>\n",
       "      <td>2102.385234</td>\n",
       "      <td>6.390000</td>\n",
       "    </tr>\n",
       "    <tr>\n",
       "      <th>1</th>\n",
       "      <td>Afghanistan</td>\n",
       "      <td>2013</td>\n",
       "      <td>2116.465454</td>\n",
       "      <td>5.900000</td>\n",
       "    </tr>\n",
       "    <tr>\n",
       "      <th>2</th>\n",
       "      <td>Afghanistan</td>\n",
       "      <td>2012</td>\n",
       "      <td>2075.491747</td>\n",
       "      <td>5.454545</td>\n",
       "    </tr>\n",
       "    <tr>\n",
       "      <th>3</th>\n",
       "      <td>Afghanistan</td>\n",
       "      <td>2011</td>\n",
       "      <td>1904.559799</td>\n",
       "      <td>5.000000</td>\n",
       "    </tr>\n",
       "    <tr>\n",
       "      <th>4</th>\n",
       "      <td>Afghanistan</td>\n",
       "      <td>2010</td>\n",
       "      <td>1957.029338</td>\n",
       "      <td>4.000000</td>\n",
       "    </tr>\n",
       "  </tbody>\n",
       "</table>\n",
       "</div>"
      ],
      "text/plain": [
       "       Country  Year  GDP_Per_Capita  Internet_Users_Pct\n",
       "0  Afghanistan  2014     2102.385234            6.390000\n",
       "1  Afghanistan  2013     2116.465454            5.900000\n",
       "2  Afghanistan  2012     2075.491747            5.454545\n",
       "3  Afghanistan  2011     1904.559799            5.000000\n",
       "4  Afghanistan  2010     1957.029338            4.000000"
      ]
     },
     "execution_count": 13,
     "metadata": {},
     "output_type": "execute_result"
    }
   ],
   "source": [
    "#13 & 14\n",
    "gdp_and_internet_use = pd.merge(gdp_df, internet_df, how='inner', on=[\"Country\", \"Year\"])\n",
    "gdp_and_internet_use.head()"
   ]
  },
  {
   "cell_type": "code",
   "execution_count": 14,
   "id": "1a34475d",
   "metadata": {},
   "outputs": [
    {
     "name": "stdout",
     "output_type": "stream",
     "text": [
      "          Country  Year  GDP_Per_Capita  Internet_Users_Pct\n",
      "0     Afghanistan  2014     2102.385234            6.390000\n",
      "1     Afghanistan  2013     2116.465454            5.900000\n",
      "2     Afghanistan  2012     2075.491747            5.454545\n",
      "3     Afghanistan  2011     1904.559799            5.000000\n",
      "4     Afghanistan  2010     1957.029338            4.000000\n",
      "...           ...   ...             ...                 ...\n",
      "3453     Zimbabwe  1997     3580.048793            0.033080\n",
      "3454     Zimbabwe  1996     3520.430146            0.016790\n",
      "3455     Zimbabwe  1995     3226.413930            0.007684\n",
      "3456     Zimbabwe  1994     3263.934978            0.001739\n",
      "3457     Zimbabwe  1990     3324.348171            0.000000\n",
      "\n",
      "[3458 rows x 4 columns]\n"
     ]
    }
   ],
   "source": [
    "#15\n",
    "gdp_and_internet_use = gdp_and_internet_use.iloc[:-1]\n",
    "print(gdp_and_internet_use)\n"
   ]
  },
  {
   "cell_type": "code",
   "execution_count": 15,
   "id": "a4c2a436",
   "metadata": {},
   "outputs": [
    {
     "name": "stdout",
     "output_type": "stream",
     "text": [
      "          Country  Year  GDP_Per_Capita  Internet_Users_Pct\n",
      "0     Afghanistan  2014     2102.385234            6.390000\n",
      "5     Afghanistan  2009     1758.904043            3.550000\n",
      "10    Afghanistan  2004     1200.278256            0.105809\n",
      "13        Albania  2014    11623.866679           60.100000\n",
      "18        Albania  2009    10346.864199           41.200000\n",
      "...           ...   ...             ...                 ...\n",
      "3419       Zambia  2009     2917.516220            6.310000\n",
      "3424       Zambia  2004     2261.766537            2.013550\n",
      "3436     Zimbabwe  2014     2955.240287           19.890000\n",
      "3441     Zimbabwe  2009     1925.364381           11.360000\n",
      "3446     Zimbabwe  2004     2480.859342            6.564045\n",
      "\n",
      "[482 rows x 4 columns]\n"
     ]
    }
   ],
   "source": [
    "#16 \n",
    "years = gdp_and_internet_use[(gdp_and_internet_use['Year']=='2004') | (gdp_and_internet_use['Year']=='2009') | (gdp_and_internet_use['Year']=='2014')]\n",
    "print(years)"
   ]
  },
  {
   "cell_type": "code",
   "execution_count": 16,
   "id": "7dca67a6",
   "metadata": {},
   "outputs": [
    {
     "name": "stdout",
     "output_type": "stream",
     "text": [
      "                  Country  Year  GDP_Per_Capita  Internet_Users_Pct\n",
      "10            Afghanistan  2004     1200.278256            0.105809\n",
      "23                Albania  2004     7604.838002            2.420388\n",
      "44                Algeria  2004    10058.435939            4.634475\n",
      "66                 Angola  2004     5593.241537            0.464815\n",
      "86    Antigua and Barbuda  2004    18745.681534           24.266544\n",
      "...                   ...   ...             ...                 ...\n",
      "3361              Uruguay  2004    12479.966871           17.063098\n",
      "3383           Uzbekistan  2004     3221.189333            2.593725\n",
      "3404              Vanuatu  2004     2792.356252            4.746603\n",
      "3424               Zambia  2004     2261.766537            2.013550\n",
      "3446             Zimbabwe  2004     2480.859342            6.564045\n",
      "\n",
      "[157 rows x 4 columns]\n",
      "                  Country  Year  GDP_Per_Capita  Internet_Users_Pct\n",
      "5             Afghanistan  2009     1758.904043            3.550000\n",
      "18                Albania  2009    10346.864199           41.200000\n",
      "39                Algeria  2009    10782.361398           11.230000\n",
      "61                 Angola  2009     7643.493749            6.000000\n",
      "81    Antigua and Barbuda  2009    20046.839017           42.000000\n",
      "...                   ...   ...             ...                 ...\n",
      "3356              Uruguay  2009    16477.823860           41.800000\n",
      "3378           Uzbekistan  2009     4446.863606           17.058216\n",
      "3399              Vanuatu  2009     3270.529800            7.500000\n",
      "3419               Zambia  2009     2917.516220            6.310000\n",
      "3441             Zimbabwe  2009     1925.364381           11.360000\n",
      "\n",
      "[162 rows x 4 columns]\n",
      "                  Country  Year  GDP_Per_Capita  Internet_Users_Pct\n",
      "0             Afghanistan  2014     2102.385234                6.39\n",
      "13                Albania  2014    11623.866679               60.10\n",
      "34                Algeria  2014    11512.705405               18.09\n",
      "56                 Angola  2014     8239.828837               21.26\n",
      "76    Antigua and Barbuda  2014    18104.241470               64.00\n",
      "...                   ...   ...             ...                 ...\n",
      "3351              Uruguay  2014    20582.168953               61.46\n",
      "3373           Uzbekistan  2014     5764.492705               43.55\n",
      "3394              Vanuatu  2014     3116.077025               18.80\n",
      "3414               Zambia  2014     3450.046561               17.34\n",
      "3436             Zimbabwe  2014     2955.240287               19.89\n",
      "\n",
      "[163 rows x 4 columns]\n"
     ]
    }
   ],
   "source": [
    "#17\n",
    "\n",
    "year2004_df = years[years['Year'] == '2004']\n",
    "print(year2004_df)\n",
    "\n",
    "year2009_df = years[years['Year'] == '2009']\n",
    "print(year2009_df)\n",
    "\n",
    "year2014_df = years[years['Year'] == '2014']\n",
    "print(year2014_df)\n"
   ]
  },
  {
   "cell_type": "code",
   "execution_count": 17,
   "id": "6263b5b9",
   "metadata": {},
   "outputs": [
    {
     "name": "stdout",
     "output_type": "stream",
     "text": [
      "      Country  Year  GDP_Per_Capita  Internet_Users_Pct\n",
      "1381  Iceland  2014      49652.1495               98.16\n"
     ]
    }
   ],
   "source": [
    "#18\n",
    "country_max_perc_2014 = year2014_df[year2014_df['Internet_Users_Pct'] == year2014_df['Internet_Users_Pct'].max()]\n",
    "print(country_max_perc_2014)"
   ]
  },
  {
   "cell_type": "markdown",
   "id": "84e6ed82",
   "metadata": {},
   "source": [
    "#18 Answer:       \n",
    "    Iceland had the highest percentage of internet users in 2014. The percentage was 98.16."
   ]
  },
  {
   "cell_type": "code",
   "execution_count": 18,
   "id": "fd392e5c",
   "metadata": {},
   "outputs": [
    {
     "name": "stdout",
     "output_type": "stream",
     "text": [
      "          Country  Year  GDP_Per_Capita  Internet_Users_Pct\n",
      "3087  Timor-Leste  2014      3264.56807                1.14\n"
     ]
    }
   ],
   "source": [
    "#19\n",
    "country_min_perc_2014 = year2014_df[year2014_df['Internet_Users_Pct'] == year2014_df['Internet_Users_Pct'].min()]\n",
    "print(country_min_perc_2014)"
   ]
  },
  {
   "cell_type": "markdown",
   "id": "bacdbeee",
   "metadata": {},
   "source": [
    "#19 Answer:\n",
    "Timor-Leste had the lowest percentage of internet users for 2014 at 1.14%"
   ]
  },
  {
   "cell_type": "code",
   "execution_count": 19,
   "id": "286f9808",
   "metadata": {},
   "outputs": [
    {
     "name": "stdout",
     "output_type": "stream",
     "text": [
      "      Country  Year  GDP_Per_Capita  Internet_Users_Pct\n",
      "2132  Myanmar  2004      1696.88176            0.024337\n",
      "          Country  Year  GDP_Per_Capita  Internet_Users_Pct\n",
      "3092  Timor-Leste  2009     2724.770973            0.185252\n"
     ]
    }
   ],
   "source": [
    "#20\n",
    "country_min_perc_2004 = year2004_df[year2004_df['Internet_Users_Pct'] == year2004_df['Internet_Users_Pct'].min()]\n",
    "print(country_min_perc_2004)\n",
    "\n",
    "country_min_perc_2009 = year2009_df[year2009_df['Internet_Users_Pct'] == year2009_df['Internet_Users_Pct'].min()]\n",
    "print(country_min_perc_2009)\n"
   ]
  },
  {
   "cell_type": "markdown",
   "id": "d62acd91",
   "metadata": {},
   "source": [
    "#20 Answer: \n",
    "\n",
    "Minimum internet usage percentage for 2004 was .02% in the country of Myanmar, but for 2009 it was .18% in Timor-Leste"
   ]
  },
  {
   "cell_type": "code",
   "execution_count": 20,
   "id": "b07149d3",
   "metadata": {},
   "outputs": [
    {
     "name": "stdout",
     "output_type": "stream",
     "text": [
      "         Country  Year  GDP_Per_Capita  Internet_Users_Pct\n",
      "1798  Luxembourg  2014    108760.91603               94.67\n"
     ]
    }
   ],
   "source": [
    "#21\n",
    "country_max_gdp_2014 = year2014_df[year2014_df['GDP_Per_Capita'] == year2014_df['GDP_Per_Capita'].max()]\n",
    "print(country_max_gdp_2014)"
   ]
  },
  {
   "cell_type": "markdown",
   "id": "d4ebb6c4",
   "metadata": {},
   "source": [
    "#21 Answer:\n",
    "Luxembourg had the highest gdp per capita for 2014 at 108760.91603 "
   ]
  },
  {
   "cell_type": "code",
   "execution_count": 21,
   "id": "6c6e8070",
   "metadata": {},
   "outputs": [
    {
     "name": "stdout",
     "output_type": "stream",
     "text": [
      "     Country  Year  GDP_Per_Capita  Internet_Users_Pct\n",
      "540  Burundi  2014      886.235777                1.38\n"
     ]
    }
   ],
   "source": [
    "#22\n",
    "country_min_gdp_2014 = year2014_df[year2014_df['GDP_Per_Capita'] == year2014_df['GDP_Per_Capita'].min()]\n",
    "print(country_min_gdp_2014)"
   ]
  },
  {
   "cell_type": "markdown",
   "id": "269889d3",
   "metadata": {},
   "source": [
    "#22 Answer:\n",
    "Burundi had the lowest gdp per capita for 2014 at 886.235777 "
   ]
  },
  {
   "cell_type": "code",
   "execution_count": 22,
   "id": "11ab7887",
   "metadata": {},
   "outputs": [
    {
     "data": {
      "text/plain": [
       "Text(0, 0.5, 'Internet Users Percentage')"
      ]
     },
     "execution_count": 22,
     "metadata": {},
     "output_type": "execute_result"
    },
    {
     "data": {
      "image/png": "[encoded data removed]",
      "text/plain": [
       "<Figure size 432x288 with 1 Axes>"
      ]
     },
     "metadata": {
      "needs_background": "light"
     },
     "output_type": "display_data"
    }
   ],
   "source": [
    "#23 - For year 2004\n",
    "plt.scatter(year2004_df.GDP_Per_Capita, year2004_df.Internet_Users_Pct)\n",
    "plt.xlabel('GDP Per Capita')\n",
    "plt.ylabel('Internet Users Percentage')\n"
   ]
  },
  {
   "cell_type": "code",
   "execution_count": 23,
   "id": "57b4f4ad",
   "metadata": {},
   "outputs": [
    {
     "data": {
      "text/plain": [
       "Text(0, 0.5, 'Internet Users Percentage')"
      ]
     },
     "execution_count": 23,
     "metadata": {},
     "output_type": "execute_result"
    },
    {
     "data": {
      "image/png": "[encoded data removed]",
      "text/plain": [
       "<Figure size 432x288 with 1 Axes>"
      ]
     },
     "metadata": {
      "needs_background": "light"
     },
     "output_type": "display_data"
    }
   ],
   "source": [
    "#23 Continued - For year 2009\n",
    "\n",
    "plt.scatter(year2009_df.GDP_Per_Capita, year2009_df.Internet_Users_Pct)\n",
    "plt.xlabel('GDP Per Capita')\n",
    "plt.ylabel('Internet Users Percentage')"
   ]
  },
  {
   "cell_type": "code",
   "execution_count": 24,
   "id": "9246966f",
   "metadata": {},
   "outputs": [
    {
     "data": {
      "text/plain": [
       "Text(0, 0.5, 'Internet Users Percentage')"
      ]
     },
     "execution_count": 24,
     "metadata": {},
     "output_type": "execute_result"
    },
    {
     "data": {
      "image/png": "[encoded data removed]",
      "text/plain": [
       "<Figure size 432x288 with 1 Axes>"
      ]
     },
     "metadata": {
      "needs_background": "light"
     },
     "output_type": "display_data"
    }
   ],
   "source": [
    "#23 Continued - For year 2014\n",
    "\n",
    "plt.scatter(year2014_df.GDP_Per_Capita, year2014_df.Internet_Users_Pct)\n",
    "plt.xlabel('GDP Per Capita')\n",
    "plt.ylabel('Internet Users Percentage')"
   ]
  },
  {
   "cell_type": "markdown",
   "id": "35bfbf7e",
   "metadata": {},
   "source": [
    "#24\n",
    "There is a great deal of difference across years. It appears that from '04 to '09, the use of the internet increased and as it did, people's personal wealth increased as well. Such is also the case in going from '09 to '14, just even more. Another way of putting this is that there is a strong positive correlation between our two variables."
   ]
  },
  {
   "cell_type": "markdown",
   "id": "9d486fd4",
   "metadata": {},
   "source": [
    "#25\n",
    "It appears that it is unimodal in that there are is only one maximum value of around 112 or 113 thousand."
   ]
  },
  {
   "cell_type": "markdown",
   "id": "4117e223",
   "metadata": {},
   "source": [
    "#26\n",
    "Internet use appears to be multimodal in that one could possibly argue as many as five maximums. Right around 45,000 GDP we see an internet use maximum of about 98%, but we also see internet use close to 98% around 46,000, 62,000, 78,000, and 106,000 GDP Per Capita."
   ]
  },
  {
   "cell_type": "code",
   "execution_count": 25,
   "id": "f9aa30b5",
   "metadata": {},
   "outputs": [
    {
     "data": {
      "text/html": [
       "<div>\n",
       "<style scoped>\n",
       "    .dataframe tbody tr th:only-of-type {\n",
       "        vertical-align: middle;\n",
       "    }\n",
       "\n",
       "    .dataframe tbody tr th {\n",
       "        vertical-align: top;\n",
       "    }\n",
       "\n",
       "    .dataframe thead th {\n",
       "        text-align: right;\n",
       "    }\n",
       "</style>\n",
       "<table border=\"1\" class=\"dataframe\">\n",
       "  <thead>\n",
       "    <tr style=\"text-align: right;\">\n",
       "      <th></th>\n",
       "      <th>Country</th>\n",
       "      <th>Year</th>\n",
       "      <th>GDP_Per_Capita</th>\n",
       "      <th>Internet_Users_Pct</th>\n",
       "    </tr>\n",
       "  </thead>\n",
       "  <tbody>\n",
       "    <tr>\n",
       "      <th>1381</th>\n",
       "      <td>Iceland</td>\n",
       "      <td>2014</td>\n",
       "      <td>49652.149500</td>\n",
       "      <td>98.16</td>\n",
       "    </tr>\n",
       "    <tr>\n",
       "      <th>372</th>\n",
       "      <td>Bermuda</td>\n",
       "      <td>2014</td>\n",
       "      <td>77361.104881</td>\n",
       "      <td>96.80</td>\n",
       "    </tr>\n",
       "    <tr>\n",
       "      <th>2296</th>\n",
       "      <td>Norway</td>\n",
       "      <td>2014</td>\n",
       "      <td>62589.373548</td>\n",
       "      <td>96.30</td>\n",
       "    </tr>\n",
       "    <tr>\n",
       "      <th>854</th>\n",
       "      <td>Denmark</td>\n",
       "      <td>2014</td>\n",
       "      <td>52214.537753</td>\n",
       "      <td>95.99</td>\n",
       "    </tr>\n",
       "    <tr>\n",
       "      <th>1798</th>\n",
       "      <td>Luxembourg</td>\n",
       "      <td>2014</td>\n",
       "      <td>108760.916030</td>\n",
       "      <td>94.67</td>\n",
       "    </tr>\n",
       "  </tbody>\n",
       "</table>\n",
       "</div>"
      ],
      "text/plain": [
       "         Country  Year  GDP_Per_Capita  Internet_Users_Pct\n",
       "1381     Iceland  2014    49652.149500               98.16\n",
       "372      Bermuda  2014    77361.104881               96.80\n",
       "2296      Norway  2014    62589.373548               96.30\n",
       "854      Denmark  2014    52214.537753               95.99\n",
       "1798  Luxembourg  2014   108760.916030               94.67"
      ]
     },
     "execution_count": 25,
     "metadata": {},
     "output_type": "execute_result"
    }
   ],
   "source": [
    "#27\n",
    "\n",
    "year2014PercDesc = year2014_df.sort_values(by = 'Internet_Users_Pct', ascending=False)\n",
    "year2014PercDesc.head()"
   ]
  },
  {
   "cell_type": "code",
   "execution_count": 26,
   "id": "08a96e59",
   "metadata": {},
   "outputs": [
    {
     "name": "stdout",
     "output_type": "stream",
     "text": [
      "         Country  Year  GDP_Per_Capita  Internet_Users_Pct\n",
      "372      Bermuda  2014    77361.104881           96.800000\n",
      "377      Bermuda  2009    89961.982744           83.250000\n",
      "382      Bermuda  2004    90195.811033           60.990867\n",
      "854      Denmark  2014    52214.537753           95.990000\n",
      "859      Denmark  2009    50274.075696           86.840000\n",
      "864      Denmark  2004    50607.628971           80.930000\n",
      "1381     Iceland  2014    49652.149500           98.160000\n",
      "1386     Iceland  2009    48177.084123           93.000000\n",
      "1391     Iceland  2004    45145.545658           83.880000\n",
      "1798  Luxembourg  2014   108760.916030           94.670000\n",
      "1803  Luxembourg  2009   104932.811953           87.310000\n",
      "1808  Luxembourg  2004   102708.212547           65.880000\n",
      "2296      Norway  2014    62589.373548           96.300000\n",
      "2301      Norway  2009    61886.564498           92.080000\n",
      "2306      Norway  2004    60893.410993           77.690000\n"
     ]
    }
   ],
   "source": [
    "#28\n",
    "top5Internet_df = years[years['Country'].isin(['Iceland', 'Bermuda', 'Norway', 'Denmark', 'Luxembourg'])]\n",
    "print(top5Internet_df)"
   ]
  },
  {
   "cell_type": "code",
   "execution_count": 27,
   "id": "15f813e6",
   "metadata": {},
   "outputs": [
    {
     "data": {
      "image/png": "[encoded data removed]",
      "text/plain": [
       "<Figure size 1080x216 with 5 Axes>"
      ]
     },
     "metadata": {
      "needs_background": "light"
     },
     "output_type": "display_data"
    }
   ],
   "source": [
    "#29\n",
    "top5YearsAsc_df = top5Internet_df = top5Internet_df.sort_values(by = 'Year', ascending=True)\n",
    "g = sns.FacetGrid(top5YearsAsc_df, col='Country')\n",
    "g = g.map(sns.scatterplot, 'Year', 'Internet_Users_Pct')"
   ]
  },
  {
   "cell_type": "markdown",
   "id": "a35cbdee",
   "metadata": {},
   "source": [
    "#29 Answer: Bermuda had the greatest amount of growth in internet usage between 2004 and 2014."
   ]
  },
  {
   "cell_type": "code",
   "execution_count": 28,
   "id": "fd31f202",
   "metadata": {},
   "outputs": [
    {
     "name": "stdout",
     "output_type": "stream",
     "text": [
      "           Country  Year  GDP_Per_Capita  Internet_Users_Pct\n",
      "540        Burundi  2014      886.235777            1.380000\n",
      "545        Burundi  2009      831.564131            0.900000\n",
      "550        Burundi  2004      817.460585            0.349060\n",
      "1261        Guinea  2014     2061.760973            1.720000\n",
      "1266        Guinea  2009     1825.576637            0.940000\n",
      "1271        Guinea  2004     1778.079082            0.508819\n",
      "2256         Niger  2014     1127.615541            1.950000\n",
      "2261         Niger  2009      992.409977            0.760000\n",
      "2266         Niger  2004      929.883920            0.189934\n",
      "2728  Sierra Leone  2014     1997.511853            2.100000\n",
      "2733  Sierra Leone  2009     1372.392285            0.260000\n",
      "2738  Sierra Leone  2004     1237.630244            0.203008\n",
      "3087   Timor-Leste  2014     3264.568070            1.140000\n",
      "3092   Timor-Leste  2009     2724.770973            0.185252\n"
     ]
    }
   ],
   "source": [
    "#30\n",
    "year2014PercAsc = year2014_df.sort_values(by = 'Internet_Users_Pct', ascending=True)\n",
    "year2014PercAsc.head()\n",
    "\n",
    "bottom5Internet_df = years[years['Country'].isin(['Timor-Leste', 'Burundi', 'Guinea', 'Niger', 'Sierra Leone'])]\n",
    "print(bottom5Internet_df)"
   ]
  },
  {
   "cell_type": "code",
   "execution_count": 29,
   "id": "16330ac3",
   "metadata": {},
   "outputs": [
    {
     "data": {
      "image/png": "[encoded data removed]",
      "text/plain": [
       "<Figure size 1080x216 with 5 Axes>"
      ]
     },
     "metadata": {
      "needs_background": "light"
     },
     "output_type": "display_data"
    }
   ],
   "source": [
    "bottom5YearsAsc_df = bottom5Internet_df = bottom5Internet_df.sort_values(by = 'Year', ascending=True)\n",
    "g = sns.FacetGrid(bottom5YearsAsc_df, col='Country')\n",
    "g = g.map(sns.scatterplot, 'Year', 'Internet_Users_Pct')"
   ]
  },
  {
   "cell_type": "markdown",
   "id": "31e16062",
   "metadata": {},
   "source": [
    "#30 Answer: Timor-Leste has consistently had the least internet usage from 2004 to 2014"
   ]
  },
  {
   "cell_type": "code",
   "execution_count": 30,
   "id": "a501b141",
   "metadata": {},
   "outputs": [
    {
     "data": {
      "text/html": [
       "<div>\n",
       "<style scoped>\n",
       "    .dataframe tbody tr th:only-of-type {\n",
       "        vertical-align: middle;\n",
       "    }\n",
       "\n",
       "    .dataframe tbody tr th {\n",
       "        vertical-align: top;\n",
       "    }\n",
       "\n",
       "    .dataframe thead th {\n",
       "        text-align: right;\n",
       "    }\n",
       "</style>\n",
       "<table border=\"1\" class=\"dataframe\">\n",
       "  <thead>\n",
       "    <tr style=\"text-align: right;\">\n",
       "      <th></th>\n",
       "      <th>Country</th>\n",
       "      <th>Year</th>\n",
       "      <th>GDP_Per_Capita</th>\n",
       "      <th>Internet_Users_Pct</th>\n",
       "    </tr>\n",
       "  </thead>\n",
       "  <tbody>\n",
       "    <tr>\n",
       "      <th>1798</th>\n",
       "      <td>Luxembourg</td>\n",
       "      <td>2014</td>\n",
       "      <td>108760.916030</td>\n",
       "      <td>94.67</td>\n",
       "    </tr>\n",
       "    <tr>\n",
       "      <th>2542</th>\n",
       "      <td>Qatar</td>\n",
       "      <td>2014</td>\n",
       "      <td>95578.416973</td>\n",
       "      <td>91.49</td>\n",
       "    </tr>\n",
       "    <tr>\n",
       "      <th>2751</th>\n",
       "      <td>Singapore</td>\n",
       "      <td>2014</td>\n",
       "      <td>87808.663157</td>\n",
       "      <td>82.00</td>\n",
       "    </tr>\n",
       "    <tr>\n",
       "      <th>372</th>\n",
       "      <td>Bermuda</td>\n",
       "      <td>2014</td>\n",
       "      <td>77361.104881</td>\n",
       "      <td>96.80</td>\n",
       "    </tr>\n",
       "    <tr>\n",
       "      <th>627</th>\n",
       "      <td>Cayman Islands</td>\n",
       "      <td>2014</td>\n",
       "      <td>66207.447230</td>\n",
       "      <td>74.10</td>\n",
       "    </tr>\n",
       "  </tbody>\n",
       "</table>\n",
       "</div>"
      ],
      "text/plain": [
       "             Country  Year  GDP_Per_Capita  Internet_Users_Pct\n",
       "1798      Luxembourg  2014   108760.916030               94.67\n",
       "2542           Qatar  2014    95578.416973               91.49\n",
       "2751       Singapore  2014    87808.663157               82.00\n",
       "372          Bermuda  2014    77361.104881               96.80\n",
       "627   Cayman Islands  2014    66207.447230               74.10"
      ]
     },
     "execution_count": 30,
     "metadata": {},
     "output_type": "execute_result"
    }
   ],
   "source": [
    "#31\n",
    "top5Gdp = year2014_df.sort_values(by = 'GDP_Per_Capita', ascending=False)\n",
    "top5Gdp.head()"
   ]
  },
  {
   "cell_type": "code",
   "execution_count": 31,
   "id": "4c241fa3",
   "metadata": {},
   "outputs": [
    {
     "name": "stdout",
     "output_type": "stream",
     "text": [
      "             Country  Year  GDP_Per_Capita  Internet_Users_Pct\n",
      "1798      Luxembourg  2014   108760.916030           94.670000\n",
      "1803      Luxembourg  2009   104932.811953           87.310000\n",
      "1808      Luxembourg  2004   102708.212547           65.880000\n",
      "2542           Qatar  2014    95578.416973           91.490000\n",
      "2552           Qatar  2004    93748.301216           20.701648\n",
      "382          Bermuda  2004    90195.811033           60.990867\n",
      "377          Bermuda  2009    89961.982744           83.250000\n",
      "2547           Qatar  2009    89954.519993           53.100000\n",
      "2751       Singapore  2014    87808.663157           82.000000\n",
      "372          Bermuda  2014    77361.104881           96.800000\n",
      "632   Cayman Islands  2009    70300.334857           64.500000\n",
      "2756       Singapore  2009    69466.581746           69.000000\n",
      "627   Cayman Islands  2014    66207.447230           74.100000\n",
      "2761       Singapore  2004    63901.716368           62.000000\n"
     ]
    }
   ],
   "source": [
    "#31 Continued\n",
    "\n",
    "top5Gdp_df = years[years['Country'].isin(['Luxembourg', 'Qatar', 'Singapore', 'Bermuda', 'Cayman Islands'])]\n",
    "top5GdpDsc_df = top5Gdp_df.sort_values(by = 'GDP_Per_Capita', ascending=False)\n",
    "print(top5GdpDsc_df)\n"
   ]
  },
  {
   "cell_type": "code",
   "execution_count": 32,
   "id": "e98f81e0",
   "metadata": {
    "scrolled": true
   },
   "outputs": [
    {
     "data": {
      "image/png": "[encoded data removed]",
      "text/plain": [
       "<Figure size 1080x216 with 5 Axes>"
      ]
     },
     "metadata": {
      "needs_background": "light"
     },
     "output_type": "display_data"
    }
   ],
   "source": [
    "#31 Continued\n",
    "top5GdpYearsAsc_df = top5GdpDsc_df.sort_values(by = 'Year', ascending=True)\n",
    "g = sns.FacetGrid(top5GdpYearsAsc_df, col='Country')\n",
    "g = g.map(sns.scatterplot, 'Year', 'GDP_Per_Capita')"
   ]
  },
  {
   "cell_type": "code",
   "execution_count": null,
   "id": "f77e512a",
   "metadata": {},
   "outputs": [],
   "source": []
  }
 ],
 "metadata": {
  "kernelspec": {
   "display_name": "Python 3 (ipykernel)",
   "language": "python",
   "name": "python3"
  },
  "language_info": {
   "codemirror_mode": {
    "name": "ipython",
    "version": 3
   },
   "file_extension": ".py",
   "mimetype": "text/x-python",
   "name": "python",
   "nbconvert_exporter": "python",
   "pygments_lexer": "ipython3",
   "version": "3.9.7"
  }
 },
 "nbformat": 4,
 "nbformat_minor": 5
}
